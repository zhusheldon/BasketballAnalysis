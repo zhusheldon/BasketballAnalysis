{
 "cells": [
  {
   "cell_type": "markdown",
   "id": "141946a4",
   "metadata": {},
   "source": [
    "# Analyzing the 19-20 Miami Heat's playoff performance\n",
    "\n",
    "After the sudden emergence of COVID-19 which brought an abrupt end to the season, the Miami squad went from 5th in the Eastern Conference standings to becoming championship contenders during the NBA 2020 Bubble, bringing the Lakers to an unpredictable game 6 that people never thought should've happened in the first place.\n",
    "\n",
    "We will compare the team's performance from the regular season to their playoff performance, deciding whether their postseason performance is something that could've been predicted from their regular season stats or if it was simply a unlikely miracle. We focus on using Dean Oliver's four factors, published in his book *Basketball on Paper*, as our key features."
   ]
  },
  {
   "cell_type": "markdown",
   "id": "c9ad1177",
   "metadata": {},
   "source": [
    "Let us collect the data. We use the NBA API library provided here: https://github.com/swar/nba_api. "
   ]
  },
  {
   "cell_type": "code",
   "execution_count": 1,
   "id": "2053aab2",
   "metadata": {
    "scrolled": true
   },
   "outputs": [],
   "source": [
    "import numpy as np \n",
    "import pandas as pd \n",
    "import os\n",
    "import scipy\n",
    "import scipy.stats as stats\n",
    "from nba_api.stats.endpoints import teamgamelog, teamgamelogs, boxscoresummaryv2,leaguegamelog, boxscoreadvancedv2\n",
    "from nba_api.stats.static import teams\n",
    "import matplotlib.pyplot as plt"
   ]
  },
  {
   "cell_type": "code",
   "execution_count": 2,
   "id": "6b337b5e",
   "metadata": {},
   "outputs": [
    {
     "data": {
      "text/plain": [
       "{'ATL': 1610612737,\n",
       " 'BKN': 1610612751,\n",
       " 'BOS': 1610612738,\n",
       " 'CHA': 1610612766,\n",
       " 'CHI': 1610612741,\n",
       " 'CLE': 1610612739,\n",
       " 'DAL': 1610612742,\n",
       " 'DEN': 1610612743,\n",
       " 'DET': 1610612765,\n",
       " 'GSW': 1610612744,\n",
       " 'HOU': 1610612745,\n",
       " 'IND': 1610612754,\n",
       " 'LAC': 1610612746,\n",
       " 'LAL': 1610612747,\n",
       " 'MEM': 1610612763,\n",
       " 'MIA': 1610612748,\n",
       " 'MIL': 1610612749,\n",
       " 'MIN': 1610612750,\n",
       " 'NOP': 1610612740,\n",
       " 'NYK': 1610612752,\n",
       " 'OKC': 1610612760,\n",
       " 'ORL': 1610612753,\n",
       " 'PHI': 1610612755,\n",
       " 'PHX': 1610612756,\n",
       " 'POR': 1610612757,\n",
       " 'SAC': 1610612758,\n",
       " 'SAS': 1610612759,\n",
       " 'TOR': 1610612761,\n",
       " 'UTA': 1610612762,\n",
       " 'WAS': 1610612764}"
      ]
     },
     "execution_count": 2,
     "metadata": {},
     "output_type": "execute_result"
    }
   ],
   "source": [
    "current_teams_abbr = ['ATL',\n",
    "                'BKN',\n",
    "                'BOS',\n",
    "                'CHA',\n",
    "                'CHI',\n",
    "                'CLE',\n",
    "                'DAL',\n",
    "                'DEN',\n",
    "                'DET',\n",
    "                'DET',\n",
    "                'GSW',\n",
    "                'HOU',\n",
    "                'IND',\n",
    "                'LAC',\n",
    "                'LAL',\n",
    "                'MEM',\n",
    "                'MIA',\n",
    "                'MIL',\n",
    "                'MIN',\n",
    "                'NOP',\n",
    "                'NYK',\n",
    "                'OKC',\n",
    "                'ORL',\n",
    "                'PHI',\n",
    "                'PHX',\n",
    "                'POR',\n",
    "                'SAC',\n",
    "                'SAS',\n",
    "                'TOR',\n",
    "                'UTA',\n",
    "                'WAS']\n",
    "team_ids = {}\n",
    "for abbr in current_teams_abbr:\n",
    "    team_ids[abbr] = teams.find_team_by_abbreviation(abbr)['id']\n",
    "team_ids"
   ]
  },
  {
   "cell_type": "code",
   "execution_count": 3,
   "id": "5750687f",
   "metadata": {
    "scrolled": true
   },
   "outputs": [],
   "source": [
    "def create_season_games_df(team_abbr: str):\n",
    "    regseason = leaguegamelog.LeagueGameLog (counter = None, direction = 'ASC', league_id = '00',player_or_team_abbreviation = 'T', season='2019-20', season_type_all_star= 'Regular Season',sorter = 'DATE') \n",
    "    regseason = regseason.get_data_frames()[0]\n",
    "    team_regseason = regseason[regseason['TEAM_ABBREVIATION'].str.contains(team_abbr)]\n",
    "    opp_regseason = regseason[~regseason['TEAM_ABBREVIATION'].str.contains(team_abbr)]\n",
    "    opp_regseason = opp_regseason.add_prefix('OPP_')\n",
    "    team_regseason_full = team_regseason.join(opp_regseason.set_index('OPP_GAME_ID'), on= 'GAME_ID', how = 'left')\n",
    "    return team_regseason_full\n",
    "mia_regseason_full = create_season_games_df('MIA')\n",
    "ind_regseason_full = create_season_games_df('IND')\n",
    "bos_regseason_full = create_season_games_df('BOS')\n",
    "lal_regseason_full = create_season_games_df('LAL')"
   ]
  },
  {
   "cell_type": "code",
   "execution_count": 4,
   "id": "d0a93bcc",
   "metadata": {
    "scrolled": true
   },
   "outputs": [
    {
     "data": {
      "text/html": [
       "<div>\n",
       "<style scoped>\n",
       "    .dataframe tbody tr th:only-of-type {\n",
       "        vertical-align: middle;\n",
       "    }\n",
       "\n",
       "    .dataframe tbody tr th {\n",
       "        vertical-align: top;\n",
       "    }\n",
       "\n",
       "    .dataframe thead th {\n",
       "        text-align: right;\n",
       "    }\n",
       "</style>\n",
       "<table border=\"1\" class=\"dataframe\">\n",
       "  <thead>\n",
       "    <tr style=\"text-align: right;\">\n",
       "      <th></th>\n",
       "      <th>SEASON_ID</th>\n",
       "      <th>TEAM_ID</th>\n",
       "      <th>TEAM_ABBREVIATION</th>\n",
       "      <th>TEAM_NAME</th>\n",
       "      <th>GAME_ID</th>\n",
       "      <th>GAME_DATE</th>\n",
       "      <th>MATCHUP</th>\n",
       "      <th>WL</th>\n",
       "      <th>MIN</th>\n",
       "      <th>FGM</th>\n",
       "      <th>...</th>\n",
       "      <th>OPP_DREB</th>\n",
       "      <th>OPP_REB</th>\n",
       "      <th>OPP_AST</th>\n",
       "      <th>OPP_STL</th>\n",
       "      <th>OPP_BLK</th>\n",
       "      <th>OPP_TOV</th>\n",
       "      <th>OPP_PF</th>\n",
       "      <th>OPP_PTS</th>\n",
       "      <th>OPP_PLUS_MINUS</th>\n",
       "      <th>OPP_VIDEO_AVAILABLE</th>\n",
       "    </tr>\n",
       "  </thead>\n",
       "  <tbody>\n",
       "    <tr>\n",
       "      <th>15</th>\n",
       "      <td>42019</td>\n",
       "      <td>1610612748</td>\n",
       "      <td>MIA</td>\n",
       "      <td>Miami Heat</td>\n",
       "      <td>0041900131</td>\n",
       "      <td>2020-08-18</td>\n",
       "      <td>MIA @ IND</td>\n",
       "      <td>W</td>\n",
       "      <td>240</td>\n",
       "      <td>40</td>\n",
       "      <td>...</td>\n",
       "      <td>30</td>\n",
       "      <td>37</td>\n",
       "      <td>22</td>\n",
       "      <td>7</td>\n",
       "      <td>4</td>\n",
       "      <td>15</td>\n",
       "      <td>23</td>\n",
       "      <td>101</td>\n",
       "      <td>-12</td>\n",
       "      <td>1</td>\n",
       "    </tr>\n",
       "    <tr>\n",
       "      <th>29</th>\n",
       "      <td>42019</td>\n",
       "      <td>1610612748</td>\n",
       "      <td>MIA</td>\n",
       "      <td>Miami Heat</td>\n",
       "      <td>0041900132</td>\n",
       "      <td>2020-08-20</td>\n",
       "      <td>MIA @ IND</td>\n",
       "      <td>W</td>\n",
       "      <td>240</td>\n",
       "      <td>36</td>\n",
       "      <td>...</td>\n",
       "      <td>34</td>\n",
       "      <td>38</td>\n",
       "      <td>25</td>\n",
       "      <td>12</td>\n",
       "      <td>7</td>\n",
       "      <td>17</td>\n",
       "      <td>23</td>\n",
       "      <td>100</td>\n",
       "      <td>-9</td>\n",
       "      <td>1</td>\n",
       "    </tr>\n",
       "    <tr>\n",
       "      <th>46</th>\n",
       "      <td>42019</td>\n",
       "      <td>1610612748</td>\n",
       "      <td>MIA</td>\n",
       "      <td>Miami Heat</td>\n",
       "      <td>0041900133</td>\n",
       "      <td>2020-08-22</td>\n",
       "      <td>MIA vs. IND</td>\n",
       "      <td>W</td>\n",
       "      <td>240</td>\n",
       "      <td>34</td>\n",
       "      <td>...</td>\n",
       "      <td>30</td>\n",
       "      <td>37</td>\n",
       "      <td>23</td>\n",
       "      <td>10</td>\n",
       "      <td>5</td>\n",
       "      <td>14</td>\n",
       "      <td>31</td>\n",
       "      <td>115</td>\n",
       "      <td>-9</td>\n",
       "      <td>1</td>\n",
       "    </tr>\n",
       "    <tr>\n",
       "      <th>58</th>\n",
       "      <td>42019</td>\n",
       "      <td>1610612748</td>\n",
       "      <td>MIA</td>\n",
       "      <td>Miami Heat</td>\n",
       "      <td>0041900134</td>\n",
       "      <td>2020-08-24</td>\n",
       "      <td>MIA vs. IND</td>\n",
       "      <td>W</td>\n",
       "      <td>240</td>\n",
       "      <td>40</td>\n",
       "      <td>...</td>\n",
       "      <td>29</td>\n",
       "      <td>34</td>\n",
       "      <td>20</td>\n",
       "      <td>8</td>\n",
       "      <td>6</td>\n",
       "      <td>15</td>\n",
       "      <td>16</td>\n",
       "      <td>87</td>\n",
       "      <td>-12</td>\n",
       "      <td>1</td>\n",
       "    </tr>\n",
       "    <tr>\n",
       "      <th>82</th>\n",
       "      <td>42019</td>\n",
       "      <td>1610612748</td>\n",
       "      <td>MIA</td>\n",
       "      <td>Miami Heat</td>\n",
       "      <td>0041900201</td>\n",
       "      <td>2020-08-31</td>\n",
       "      <td>MIA @ MIL</td>\n",
       "      <td>W</td>\n",
       "      <td>240</td>\n",
       "      <td>39</td>\n",
       "      <td>...</td>\n",
       "      <td>27</td>\n",
       "      <td>34</td>\n",
       "      <td>22</td>\n",
       "      <td>6</td>\n",
       "      <td>7</td>\n",
       "      <td>19</td>\n",
       "      <td>24</td>\n",
       "      <td>104</td>\n",
       "      <td>-11</td>\n",
       "      <td>1</td>\n",
       "    </tr>\n",
       "    <tr>\n",
       "      <th>88</th>\n",
       "      <td>42019</td>\n",
       "      <td>1610612748</td>\n",
       "      <td>MIA</td>\n",
       "      <td>Miami Heat</td>\n",
       "      <td>0041900202</td>\n",
       "      <td>2020-09-02</td>\n",
       "      <td>MIA @ MIL</td>\n",
       "      <td>W</td>\n",
       "      <td>240</td>\n",
       "      <td>37</td>\n",
       "      <td>...</td>\n",
       "      <td>33</td>\n",
       "      <td>50</td>\n",
       "      <td>16</td>\n",
       "      <td>6</td>\n",
       "      <td>2</td>\n",
       "      <td>14</td>\n",
       "      <td>25</td>\n",
       "      <td>114</td>\n",
       "      <td>-2</td>\n",
       "      <td>1</td>\n",
       "    </tr>\n",
       "    <tr>\n",
       "      <th>96</th>\n",
       "      <td>42019</td>\n",
       "      <td>1610612748</td>\n",
       "      <td>MIA</td>\n",
       "      <td>Miami Heat</td>\n",
       "      <td>0041900203</td>\n",
       "      <td>2020-09-04</td>\n",
       "      <td>MIA vs. MIL</td>\n",
       "      <td>W</td>\n",
       "      <td>240</td>\n",
       "      <td>35</td>\n",
       "      <td>...</td>\n",
       "      <td>36</td>\n",
       "      <td>44</td>\n",
       "      <td>23</td>\n",
       "      <td>8</td>\n",
       "      <td>5</td>\n",
       "      <td>10</td>\n",
       "      <td>22</td>\n",
       "      <td>100</td>\n",
       "      <td>-15</td>\n",
       "      <td>1</td>\n",
       "    </tr>\n",
       "    <tr>\n",
       "      <th>105</th>\n",
       "      <td>42019</td>\n",
       "      <td>1610612748</td>\n",
       "      <td>MIA</td>\n",
       "      <td>Miami Heat</td>\n",
       "      <td>0041900204</td>\n",
       "      <td>2020-09-06</td>\n",
       "      <td>MIA vs. MIL</td>\n",
       "      <td>L</td>\n",
       "      <td>265</td>\n",
       "      <td>40</td>\n",
       "      <td>...</td>\n",
       "      <td>37</td>\n",
       "      <td>46</td>\n",
       "      <td>25</td>\n",
       "      <td>10</td>\n",
       "      <td>4</td>\n",
       "      <td>12</td>\n",
       "      <td>20</td>\n",
       "      <td>118</td>\n",
       "      <td>3</td>\n",
       "      <td>1</td>\n",
       "    </tr>\n",
       "    <tr>\n",
       "      <th>113</th>\n",
       "      <td>42019</td>\n",
       "      <td>1610612748</td>\n",
       "      <td>MIA</td>\n",
       "      <td>Miami Heat</td>\n",
       "      <td>0041900205</td>\n",
       "      <td>2020-09-08</td>\n",
       "      <td>MIA @ MIL</td>\n",
       "      <td>W</td>\n",
       "      <td>240</td>\n",
       "      <td>35</td>\n",
       "      <td>...</td>\n",
       "      <td>28</td>\n",
       "      <td>41</td>\n",
       "      <td>20</td>\n",
       "      <td>7</td>\n",
       "      <td>5</td>\n",
       "      <td>11</td>\n",
       "      <td>23</td>\n",
       "      <td>94</td>\n",
       "      <td>-9</td>\n",
       "      <td>1</td>\n",
       "    </tr>\n",
       "    <tr>\n",
       "      <th>133</th>\n",
       "      <td>42019</td>\n",
       "      <td>1610612748</td>\n",
       "      <td>MIA</td>\n",
       "      <td>Miami Heat</td>\n",
       "      <td>0041900301</td>\n",
       "      <td>2020-09-15</td>\n",
       "      <td>MIA @ BOS</td>\n",
       "      <td>W</td>\n",
       "      <td>265</td>\n",
       "      <td>40</td>\n",
       "      <td>...</td>\n",
       "      <td>31</td>\n",
       "      <td>37</td>\n",
       "      <td>24</td>\n",
       "      <td>9</td>\n",
       "      <td>6</td>\n",
       "      <td>11</td>\n",
       "      <td>25</td>\n",
       "      <td>114</td>\n",
       "      <td>-3</td>\n",
       "      <td>1</td>\n",
       "    </tr>\n",
       "    <tr>\n",
       "      <th>135</th>\n",
       "      <td>42019</td>\n",
       "      <td>1610612748</td>\n",
       "      <td>MIA</td>\n",
       "      <td>Miami Heat</td>\n",
       "      <td>0041900302</td>\n",
       "      <td>2020-09-17</td>\n",
       "      <td>MIA @ BOS</td>\n",
       "      <td>W</td>\n",
       "      <td>240</td>\n",
       "      <td>40</td>\n",
       "      <td>...</td>\n",
       "      <td>35</td>\n",
       "      <td>41</td>\n",
       "      <td>19</td>\n",
       "      <td>5</td>\n",
       "      <td>3</td>\n",
       "      <td>20</td>\n",
       "      <td>22</td>\n",
       "      <td>101</td>\n",
       "      <td>-5</td>\n",
       "      <td>1</td>\n",
       "    </tr>\n",
       "    <tr>\n",
       "      <th>139</th>\n",
       "      <td>42019</td>\n",
       "      <td>1610612748</td>\n",
       "      <td>MIA</td>\n",
       "      <td>Miami Heat</td>\n",
       "      <td>0041900303</td>\n",
       "      <td>2020-09-19</td>\n",
       "      <td>MIA vs. BOS</td>\n",
       "      <td>L</td>\n",
       "      <td>240</td>\n",
       "      <td>33</td>\n",
       "      <td>...</td>\n",
       "      <td>40</td>\n",
       "      <td>50</td>\n",
       "      <td>27</td>\n",
       "      <td>8</td>\n",
       "      <td>3</td>\n",
       "      <td>14</td>\n",
       "      <td>29</td>\n",
       "      <td>117</td>\n",
       "      <td>11</td>\n",
       "      <td>1</td>\n",
       "    </tr>\n",
       "    <tr>\n",
       "      <th>145</th>\n",
       "      <td>42019</td>\n",
       "      <td>1610612748</td>\n",
       "      <td>MIA</td>\n",
       "      <td>Miami Heat</td>\n",
       "      <td>0041900304</td>\n",
       "      <td>2020-09-23</td>\n",
       "      <td>MIA vs. BOS</td>\n",
       "      <td>W</td>\n",
       "      <td>240</td>\n",
       "      <td>39</td>\n",
       "      <td>...</td>\n",
       "      <td>34</td>\n",
       "      <td>46</td>\n",
       "      <td>28</td>\n",
       "      <td>3</td>\n",
       "      <td>5</td>\n",
       "      <td>19</td>\n",
       "      <td>24</td>\n",
       "      <td>109</td>\n",
       "      <td>-3</td>\n",
       "      <td>1</td>\n",
       "    </tr>\n",
       "    <tr>\n",
       "      <th>149</th>\n",
       "      <td>42019</td>\n",
       "      <td>1610612748</td>\n",
       "      <td>MIA</td>\n",
       "      <td>Miami Heat</td>\n",
       "      <td>0041900305</td>\n",
       "      <td>2020-09-25</td>\n",
       "      <td>MIA @ BOS</td>\n",
       "      <td>L</td>\n",
       "      <td>240</td>\n",
       "      <td>39</td>\n",
       "      <td>...</td>\n",
       "      <td>37</td>\n",
       "      <td>50</td>\n",
       "      <td>29</td>\n",
       "      <td>7</td>\n",
       "      <td>4</td>\n",
       "      <td>11</td>\n",
       "      <td>23</td>\n",
       "      <td>121</td>\n",
       "      <td>13</td>\n",
       "      <td>1</td>\n",
       "    </tr>\n",
       "    <tr>\n",
       "      <th>153</th>\n",
       "      <td>42019</td>\n",
       "      <td>1610612748</td>\n",
       "      <td>MIA</td>\n",
       "      <td>Miami Heat</td>\n",
       "      <td>0041900306</td>\n",
       "      <td>2020-09-27</td>\n",
       "      <td>MIA vs. BOS</td>\n",
       "      <td>W</td>\n",
       "      <td>240</td>\n",
       "      <td>45</td>\n",
       "      <td>...</td>\n",
       "      <td>29</td>\n",
       "      <td>42</td>\n",
       "      <td>26</td>\n",
       "      <td>7</td>\n",
       "      <td>2</td>\n",
       "      <td>10</td>\n",
       "      <td>21</td>\n",
       "      <td>113</td>\n",
       "      <td>-12</td>\n",
       "      <td>1</td>\n",
       "    </tr>\n",
       "    <tr>\n",
       "      <th>155</th>\n",
       "      <td>42019</td>\n",
       "      <td>1610612748</td>\n",
       "      <td>MIA</td>\n",
       "      <td>Miami Heat</td>\n",
       "      <td>0041900401</td>\n",
       "      <td>2020-09-30</td>\n",
       "      <td>MIA @ LAL</td>\n",
       "      <td>L</td>\n",
       "      <td>240</td>\n",
       "      <td>38</td>\n",
       "      <td>...</td>\n",
       "      <td>45</td>\n",
       "      <td>54</td>\n",
       "      <td>26</td>\n",
       "      <td>7</td>\n",
       "      <td>8</td>\n",
       "      <td>12</td>\n",
       "      <td>19</td>\n",
       "      <td>116</td>\n",
       "      <td>18</td>\n",
       "      <td>1</td>\n",
       "    </tr>\n",
       "    <tr>\n",
       "      <th>156</th>\n",
       "      <td>42019</td>\n",
       "      <td>1610612748</td>\n",
       "      <td>MIA</td>\n",
       "      <td>Miami Heat</td>\n",
       "      <td>0041900402</td>\n",
       "      <td>2020-10-02</td>\n",
       "      <td>MIA @ LAL</td>\n",
       "      <td>L</td>\n",
       "      <td>240</td>\n",
       "      <td>36</td>\n",
       "      <td>...</td>\n",
       "      <td>28</td>\n",
       "      <td>44</td>\n",
       "      <td>32</td>\n",
       "      <td>6</td>\n",
       "      <td>3</td>\n",
       "      <td>9</td>\n",
       "      <td>26</td>\n",
       "      <td>124</td>\n",
       "      <td>10</td>\n",
       "      <td>1</td>\n",
       "    </tr>\n",
       "    <tr>\n",
       "      <th>159</th>\n",
       "      <td>42019</td>\n",
       "      <td>1610612748</td>\n",
       "      <td>MIA</td>\n",
       "      <td>Miami Heat</td>\n",
       "      <td>0041900403</td>\n",
       "      <td>2020-10-04</td>\n",
       "      <td>MIA vs. LAL</td>\n",
       "      <td>W</td>\n",
       "      <td>240</td>\n",
       "      <td>41</td>\n",
       "      <td>...</td>\n",
       "      <td>32</td>\n",
       "      <td>43</td>\n",
       "      <td>23</td>\n",
       "      <td>8</td>\n",
       "      <td>2</td>\n",
       "      <td>20</td>\n",
       "      <td>22</td>\n",
       "      <td>104</td>\n",
       "      <td>-11</td>\n",
       "      <td>1</td>\n",
       "    </tr>\n",
       "    <tr>\n",
       "      <th>161</th>\n",
       "      <td>42019</td>\n",
       "      <td>1610612748</td>\n",
       "      <td>MIA</td>\n",
       "      <td>Miami Heat</td>\n",
       "      <td>0041900404</td>\n",
       "      <td>2020-10-06</td>\n",
       "      <td>MIA vs. LAL</td>\n",
       "      <td>L</td>\n",
       "      <td>240</td>\n",
       "      <td>32</td>\n",
       "      <td>...</td>\n",
       "      <td>32</td>\n",
       "      <td>42</td>\n",
       "      <td>25</td>\n",
       "      <td>5</td>\n",
       "      <td>4</td>\n",
       "      <td>15</td>\n",
       "      <td>14</td>\n",
       "      <td>102</td>\n",
       "      <td>6</td>\n",
       "      <td>1</td>\n",
       "    </tr>\n",
       "    <tr>\n",
       "      <th>163</th>\n",
       "      <td>42019</td>\n",
       "      <td>1610612748</td>\n",
       "      <td>MIA</td>\n",
       "      <td>Miami Heat</td>\n",
       "      <td>0041900405</td>\n",
       "      <td>2020-10-09</td>\n",
       "      <td>MIA @ LAL</td>\n",
       "      <td>W</td>\n",
       "      <td>240</td>\n",
       "      <td>38</td>\n",
       "      <td>...</td>\n",
       "      <td>29</td>\n",
       "      <td>41</td>\n",
       "      <td>21</td>\n",
       "      <td>10</td>\n",
       "      <td>5</td>\n",
       "      <td>15</td>\n",
       "      <td>21</td>\n",
       "      <td>108</td>\n",
       "      <td>-3</td>\n",
       "      <td>1</td>\n",
       "    </tr>\n",
       "    <tr>\n",
       "      <th>164</th>\n",
       "      <td>42019</td>\n",
       "      <td>1610612748</td>\n",
       "      <td>MIA</td>\n",
       "      <td>Miami Heat</td>\n",
       "      <td>0041900406</td>\n",
       "      <td>2020-10-11</td>\n",
       "      <td>MIA vs. LAL</td>\n",
       "      <td>L</td>\n",
       "      <td>240</td>\n",
       "      <td>35</td>\n",
       "      <td>...</td>\n",
       "      <td>34</td>\n",
       "      <td>46</td>\n",
       "      <td>23</td>\n",
       "      <td>5</td>\n",
       "      <td>4</td>\n",
       "      <td>14</td>\n",
       "      <td>22</td>\n",
       "      <td>106</td>\n",
       "      <td>13</td>\n",
       "      <td>1</td>\n",
       "    </tr>\n",
       "  </tbody>\n",
       "</table>\n",
       "<p>21 rows × 57 columns</p>\n",
       "</div>"
      ],
      "text/plain": [
       "    SEASON_ID     TEAM_ID TEAM_ABBREVIATION   TEAM_NAME     GAME_ID  \\\n",
       "15      42019  1610612748               MIA  Miami Heat  0041900131   \n",
       "29      42019  1610612748               MIA  Miami Heat  0041900132   \n",
       "46      42019  1610612748               MIA  Miami Heat  0041900133   \n",
       "58      42019  1610612748               MIA  Miami Heat  0041900134   \n",
       "82      42019  1610612748               MIA  Miami Heat  0041900201   \n",
       "88      42019  1610612748               MIA  Miami Heat  0041900202   \n",
       "96      42019  1610612748               MIA  Miami Heat  0041900203   \n",
       "105     42019  1610612748               MIA  Miami Heat  0041900204   \n",
       "113     42019  1610612748               MIA  Miami Heat  0041900205   \n",
       "133     42019  1610612748               MIA  Miami Heat  0041900301   \n",
       "135     42019  1610612748               MIA  Miami Heat  0041900302   \n",
       "139     42019  1610612748               MIA  Miami Heat  0041900303   \n",
       "145     42019  1610612748               MIA  Miami Heat  0041900304   \n",
       "149     42019  1610612748               MIA  Miami Heat  0041900305   \n",
       "153     42019  1610612748               MIA  Miami Heat  0041900306   \n",
       "155     42019  1610612748               MIA  Miami Heat  0041900401   \n",
       "156     42019  1610612748               MIA  Miami Heat  0041900402   \n",
       "159     42019  1610612748               MIA  Miami Heat  0041900403   \n",
       "161     42019  1610612748               MIA  Miami Heat  0041900404   \n",
       "163     42019  1610612748               MIA  Miami Heat  0041900405   \n",
       "164     42019  1610612748               MIA  Miami Heat  0041900406   \n",
       "\n",
       "      GAME_DATE      MATCHUP WL  MIN  FGM  ...  OPP_DREB  OPP_REB  OPP_AST  \\\n",
       "15   2020-08-18    MIA @ IND  W  240   40  ...        30       37       22   \n",
       "29   2020-08-20    MIA @ IND  W  240   36  ...        34       38       25   \n",
       "46   2020-08-22  MIA vs. IND  W  240   34  ...        30       37       23   \n",
       "58   2020-08-24  MIA vs. IND  W  240   40  ...        29       34       20   \n",
       "82   2020-08-31    MIA @ MIL  W  240   39  ...        27       34       22   \n",
       "88   2020-09-02    MIA @ MIL  W  240   37  ...        33       50       16   \n",
       "96   2020-09-04  MIA vs. MIL  W  240   35  ...        36       44       23   \n",
       "105  2020-09-06  MIA vs. MIL  L  265   40  ...        37       46       25   \n",
       "113  2020-09-08    MIA @ MIL  W  240   35  ...        28       41       20   \n",
       "133  2020-09-15    MIA @ BOS  W  265   40  ...        31       37       24   \n",
       "135  2020-09-17    MIA @ BOS  W  240   40  ...        35       41       19   \n",
       "139  2020-09-19  MIA vs. BOS  L  240   33  ...        40       50       27   \n",
       "145  2020-09-23  MIA vs. BOS  W  240   39  ...        34       46       28   \n",
       "149  2020-09-25    MIA @ BOS  L  240   39  ...        37       50       29   \n",
       "153  2020-09-27  MIA vs. BOS  W  240   45  ...        29       42       26   \n",
       "155  2020-09-30    MIA @ LAL  L  240   38  ...        45       54       26   \n",
       "156  2020-10-02    MIA @ LAL  L  240   36  ...        28       44       32   \n",
       "159  2020-10-04  MIA vs. LAL  W  240   41  ...        32       43       23   \n",
       "161  2020-10-06  MIA vs. LAL  L  240   32  ...        32       42       25   \n",
       "163  2020-10-09    MIA @ LAL  W  240   38  ...        29       41       21   \n",
       "164  2020-10-11  MIA vs. LAL  L  240   35  ...        34       46       23   \n",
       "\n",
       "     OPP_STL  OPP_BLK  OPP_TOV  OPP_PF  OPP_PTS  OPP_PLUS_MINUS  \\\n",
       "15         7        4       15      23      101             -12   \n",
       "29        12        7       17      23      100              -9   \n",
       "46        10        5       14      31      115              -9   \n",
       "58         8        6       15      16       87             -12   \n",
       "82         6        7       19      24      104             -11   \n",
       "88         6        2       14      25      114              -2   \n",
       "96         8        5       10      22      100             -15   \n",
       "105       10        4       12      20      118               3   \n",
       "113        7        5       11      23       94              -9   \n",
       "133        9        6       11      25      114              -3   \n",
       "135        5        3       20      22      101              -5   \n",
       "139        8        3       14      29      117              11   \n",
       "145        3        5       19      24      109              -3   \n",
       "149        7        4       11      23      121              13   \n",
       "153        7        2       10      21      113             -12   \n",
       "155        7        8       12      19      116              18   \n",
       "156        6        3        9      26      124              10   \n",
       "159        8        2       20      22      104             -11   \n",
       "161        5        4       15      14      102               6   \n",
       "163       10        5       15      21      108              -3   \n",
       "164        5        4       14      22      106              13   \n",
       "\n",
       "     OPP_VIDEO_AVAILABLE  \n",
       "15                     1  \n",
       "29                     1  \n",
       "46                     1  \n",
       "58                     1  \n",
       "82                     1  \n",
       "88                     1  \n",
       "96                     1  \n",
       "105                    1  \n",
       "113                    1  \n",
       "133                    1  \n",
       "135                    1  \n",
       "139                    1  \n",
       "145                    1  \n",
       "149                    1  \n",
       "153                    1  \n",
       "155                    1  \n",
       "156                    1  \n",
       "159                    1  \n",
       "161                    1  \n",
       "163                    1  \n",
       "164                    1  \n",
       "\n",
       "[21 rows x 57 columns]"
      ]
     },
     "execution_count": 4,
     "metadata": {},
     "output_type": "execute_result"
    }
   ],
   "source": [
    "playoffs = leaguegamelog.LeagueGameLog (counter = 1, direction = 'ASC', league_id = '00',player_or_team_abbreviation = 'T', season='2019-20', season_type_all_star= 'Playoffs',sorter = 'DATE') \n",
    "playoffs = playoffs.get_data_frames()[0]\n",
    "mia_playoffs = playoffs[playoffs['TEAM_ABBREVIATION'].str.contains('MIA')]\n",
    "opp_playoffs = playoffs[~playoffs['TEAM_ABBREVIATION'].str.contains('MIA')]\n",
    "opp_playoffs = opp_playoffs.add_prefix('OPP_')\n",
    "mia_playoffs_full = mia_playoffs.join(opp_playoffs.set_index('OPP_GAME_ID'), on= 'GAME_ID', how = 'left')\n",
    "mia_playoffs_full"
   ]
  },
  {
   "cell_type": "markdown",
   "id": "38d33163",
   "metadata": {},
   "source": [
    "# Dean Oliver's Four Factors\n",
    "\n",
    "In *Basketball on Paper*, Dean Oliver discussed four key statistical features that he thought we were the biggest determinants for the outcome of a basketball game:\n",
    "- Effective Field Goal Percentage (eFG%)\n",
    "- Turnover Percentage (TOV%)\n",
    "- Offensive Rebounding Percentage (ORB%)\n",
    "- Free Throw Rate (FTRate)\n",
    "\n",
    "These stats best measure how efficiently teams score and retain possessions. Below, we engineer the feature columns for both teams in each game to determine how well the Heat are in performing as well as preventing other teams from succeeding within these metrics."
   ]
  },
  {
   "cell_type": "markdown",
   "id": "089568a6",
   "metadata": {},
   "source": [
    "## Effective Field Goal Percentage"
   ]
  },
  {
   "cell_type": "code",
   "execution_count": 5,
   "id": "4246f642",
   "metadata": {},
   "outputs": [],
   "source": [
    "def create_eFG(df):\n",
    "    df['eFG%'] = 100 * (df['FGM'] + df['FG3M']*0.5)/df['FGA']\n",
    "    return df"
   ]
  },
  {
   "cell_type": "code",
   "execution_count": 6,
   "id": "8346205c",
   "metadata": {},
   "outputs": [],
   "source": [
    "def create_opp_eFG(df):\n",
    "    df['OPP_eFG%'] = 100 * (df['OPP_FGM'] + df['OPP_FG3M']*0.5)/df['OPP_FGA']\n",
    "    return df"
   ]
  },
  {
   "cell_type": "markdown",
   "id": "dd4f5c1b",
   "metadata": {},
   "source": [
    "## Turnover Percentage"
   ]
  },
  {
   "cell_type": "code",
   "execution_count": 7,
   "id": "60f348af",
   "metadata": {},
   "outputs": [],
   "source": [
    "def create_tov(df):\n",
    "    df['TOV%'] = 100 * df['TOV']/(df['FGA'] + df['FTA']*0.44 + df['TOV'])\n",
    "    return df\n",
    "\n",
    "def create_opp_tov(df):\n",
    "    df['OPP_TOV%'] = 100 * df['OPP_TOV']/(df['OPP_FGA'] + df['OPP_FTA']*0.44 + df['OPP_TOV'])\n",
    "    return df"
   ]
  },
  {
   "cell_type": "markdown",
   "id": "2cdf6ff4",
   "metadata": {},
   "source": [
    "## Rebounding Percentage"
   ]
  },
  {
   "cell_type": "markdown",
   "id": "49075929",
   "metadata": {},
   "source": [
    "### Offensive Rebounding Percentage"
   ]
  },
  {
   "cell_type": "code",
   "execution_count": 8,
   "id": "31c95ba8",
   "metadata": {},
   "outputs": [],
   "source": [
    "def create_orb(df):\n",
    "    df['ORB%'] = df['OREB']/(df['OREB'] + df['OPP_DREB'])\n",
    "    return df"
   ]
  },
  {
   "cell_type": "markdown",
   "id": "1d6cac77",
   "metadata": {},
   "source": [
    "### Opponent Offensive Rebounding Percentage (1 - Defensive Rebounding Percentage)"
   ]
  },
  {
   "cell_type": "code",
   "execution_count": 9,
   "id": "25ebccf0",
   "metadata": {},
   "outputs": [],
   "source": [
    "def create_opp_orb(df):\n",
    "    df['OPP_ORB%'] = df['OPP_OREB']/(df['OPP_OREB'] + df['DREB'])\n",
    "    return df"
   ]
  },
  {
   "cell_type": "markdown",
   "id": "4b2410e5",
   "metadata": {},
   "source": [
    "## Free Throw Rate (FTM/FGA)\n",
    "Some people like to interpret free throw rate as the number of free throw attempts over field goal attempts, but here we change the numerator to be the number of free throws made. This not only captures how often the team reaches the free throw line, but also how often they make it."
   ]
  },
  {
   "cell_type": "code",
   "execution_count": 10,
   "id": "7d274a91",
   "metadata": {},
   "outputs": [],
   "source": [
    "def create_ftrate(df):\n",
    "    df['FTRate'] = df['FTM']/df['FGA']\n",
    "    return df\n",
    "\n",
    "def create_opp_ftrate(df):\n",
    "    df['OPP_FTRate'] = df['OPP_FTM']/df['OPP_FGA']\n",
    "    return df"
   ]
  },
  {
   "cell_type": "markdown",
   "id": "501fca43",
   "metadata": {},
   "source": [
    "## Creating Feature Columns"
   ]
  },
  {
   "cell_type": "code",
   "execution_count": 66,
   "id": "2ee9107e",
   "metadata": {},
   "outputs": [],
   "source": [
    "def create_four_factors(df):\n",
    "    df = create_eFG(df)\n",
    "    df = create_opp_eFG(df)\n",
    "    df = create_tov(df)\n",
    "    df = create_opp_tov(df)\n",
    "    df = create_orb(df)\n",
    "    df = create_opp_orb(df)\n",
    "    df = create_ftrate(df)\n",
    "    df = create_opp_ftrate(df)\n",
    "    return df\n",
    "\n",
    "advstats = ['TEAM_ID', \n",
    "            'WL', \n",
    "            'eFG%', \n",
    "            'OPP_eFG%', \n",
    "            'TOV%', \n",
    "            'OPP_TOV%', \n",
    "            'ORB%', \n",
    "            'OPP_ORB%' , \n",
    "            'FTRate', \n",
    "            'OPP_FTRate', \n",
    "            'eFG%_diff',\n",
    "           'TOV%_diff',\n",
    "           'ORB%_diff',\n",
    "           'FTRate_diff',\n",
    "           'FourFactorAdv']"
   ]
  },
  {
   "cell_type": "code",
   "execution_count": 12,
   "id": "04936e5a",
   "metadata": {
    "scrolled": true
   },
   "outputs": [],
   "source": [
    "mia_regseason_full = create_four_factors(mia_regseason_full)\n",
    "ind_regseason_full = create_four_factors(ind_regseason_full)\n",
    "bos_regseason_full = create_four_factors(bos_regseason_full)\n",
    "lal_regseason_full = create_four_factors(lal_regseason_full)"
   ]
  },
  {
   "cell_type": "markdown",
   "id": "79de845e",
   "metadata": {},
   "source": [
    "We compare the difference between their own performance in the Four Factors with the other team, because in order to win, you don't to perform highly or score too many points, you just need to perform better than the other team."
   ]
  },
  {
   "cell_type": "code",
   "execution_count": 13,
   "id": "bfbeae96",
   "metadata": {},
   "outputs": [],
   "source": [
    "mia_regseason_full['eFG%_diff'] = mia_regseason_full['eFG%'] -  mia_regseason_full['OPP_eFG%']\n",
    "mia_regseason_full['TOV%_diff'] = mia_regseason_full['OPP_TOV%'] - mia_regseason_full['TOV%']  \n",
    "mia_regseason_full['ORB%_diff'] = mia_regseason_full['ORB%'] -  mia_regseason_full['OPP_ORB%']\n",
    "mia_regseason_full['FTRate_diff'] = mia_regseason_full['FTRate'] -  mia_regseason_full['OPP_FTRate']"
   ]
  },
  {
   "cell_type": "code",
   "execution_count": 90,
   "id": "065dd732",
   "metadata": {
    "scrolled": true
   },
   "outputs": [
    {
     "data": {
      "text/html": [
       "<div>\n",
       "<style scoped>\n",
       "    .dataframe tbody tr th:only-of-type {\n",
       "        vertical-align: middle;\n",
       "    }\n",
       "\n",
       "    .dataframe tbody tr th {\n",
       "        vertical-align: top;\n",
       "    }\n",
       "\n",
       "    .dataframe thead th {\n",
       "        text-align: right;\n",
       "    }\n",
       "</style>\n",
       "<table border=\"1\" class=\"dataframe\">\n",
       "  <thead>\n",
       "    <tr style=\"text-align: right;\">\n",
       "      <th></th>\n",
       "      <th>SEASON_ID</th>\n",
       "      <th>TEAM_ID</th>\n",
       "      <th>TEAM_ABBREVIATION</th>\n",
       "      <th>TEAM_NAME</th>\n",
       "      <th>GAME_ID</th>\n",
       "      <th>GAME_DATE</th>\n",
       "      <th>MATCHUP</th>\n",
       "      <th>WL</th>\n",
       "      <th>MIN</th>\n",
       "      <th>FGM</th>\n",
       "      <th>...</th>\n",
       "      <th>OPP_TOV%</th>\n",
       "      <th>ORB%</th>\n",
       "      <th>OPP_ORB%</th>\n",
       "      <th>FTRate</th>\n",
       "      <th>OPP_FTRate</th>\n",
       "      <th>eFG%_diff</th>\n",
       "      <th>TOV%_diff</th>\n",
       "      <th>ORB%_diff</th>\n",
       "      <th>FTRate_diff</th>\n",
       "      <th>FourFactorAdv</th>\n",
       "    </tr>\n",
       "  </thead>\n",
       "  <tbody>\n",
       "    <tr>\n",
       "      <th>20</th>\n",
       "      <td>22019</td>\n",
       "      <td>1610612748</td>\n",
       "      <td>MIA</td>\n",
       "      <td>Miami Heat</td>\n",
       "      <td>0021900007</td>\n",
       "      <td>2019-10-23</td>\n",
       "      <td>MIA vs. MEM</td>\n",
       "      <td>W</td>\n",
       "      <td>240</td>\n",
       "      <td>40</td>\n",
       "      <td>...</td>\n",
       "      <td>19.017433</td>\n",
       "      <td>0.261905</td>\n",
       "      <td>0.183673</td>\n",
       "      <td>0.388235</td>\n",
       "      <td>0.224719</td>\n",
       "      <td>5.670853</td>\n",
       "      <td>1.966442</td>\n",
       "      <td>0.078231</td>\n",
       "      <td>0.163516</td>\n",
       "      <td>4</td>\n",
       "    </tr>\n",
       "    <tr>\n",
       "      <th>57</th>\n",
       "      <td>22019</td>\n",
       "      <td>1610612748</td>\n",
       "      <td>MIA</td>\n",
       "      <td>Miami Heat</td>\n",
       "      <td>0021900026</td>\n",
       "      <td>2019-10-26</td>\n",
       "      <td>MIA @ MIL</td>\n",
       "      <td>W</td>\n",
       "      <td>265</td>\n",
       "      <td>46</td>\n",
       "      <td>...</td>\n",
       "      <td>14.128728</td>\n",
       "      <td>0.160000</td>\n",
       "      <td>0.098039</td>\n",
       "      <td>0.227723</td>\n",
       "      <td>0.287234</td>\n",
       "      <td>0.805772</td>\n",
       "      <td>0.779574</td>\n",
       "      <td>0.061961</td>\n",
       "      <td>-0.059511</td>\n",
       "      <td>2</td>\n",
       "    </tr>\n",
       "    <tr>\n",
       "      <th>73</th>\n",
       "      <td>22019</td>\n",
       "      <td>1610612748</td>\n",
       "      <td>MIA</td>\n",
       "      <td>Miami Heat</td>\n",
       "      <td>0021900039</td>\n",
       "      <td>2019-10-27</td>\n",
       "      <td>MIA @ MIN</td>\n",
       "      <td>L</td>\n",
       "      <td>240</td>\n",
       "      <td>42</td>\n",
       "      <td>...</td>\n",
       "      <td>13.166557</td>\n",
       "      <td>0.179487</td>\n",
       "      <td>0.291667</td>\n",
       "      <td>0.117647</td>\n",
       "      <td>0.274725</td>\n",
       "      <td>8.235294</td>\n",
       "      <td>-6.903251</td>\n",
       "      <td>-0.112179</td>\n",
       "      <td>-0.157078</td>\n",
       "      <td>-2</td>\n",
       "    </tr>\n",
       "    <tr>\n",
       "      <th>104</th>\n",
       "      <td>22019</td>\n",
       "      <td>1610612748</td>\n",
       "      <td>MIA</td>\n",
       "      <td>Miami Heat</td>\n",
       "      <td>0021900052</td>\n",
       "      <td>2019-10-29</td>\n",
       "      <td>MIA vs. ATL</td>\n",
       "      <td>W</td>\n",
       "      <td>240</td>\n",
       "      <td>33</td>\n",
       "      <td>...</td>\n",
       "      <td>17.611835</td>\n",
       "      <td>0.351351</td>\n",
       "      <td>0.200000</td>\n",
       "      <td>0.452055</td>\n",
       "      <td>0.192771</td>\n",
       "      <td>5.314408</td>\n",
       "      <td>-5.566973</td>\n",
       "      <td>0.151351</td>\n",
       "      <td>0.259284</td>\n",
       "      <td>2</td>\n",
       "    </tr>\n",
       "    <tr>\n",
       "      <th>133</th>\n",
       "      <td>22019</td>\n",
       "      <td>1610612748</td>\n",
       "      <td>MIA</td>\n",
       "      <td>Miami Heat</td>\n",
       "      <td>0021900066</td>\n",
       "      <td>2019-10-31</td>\n",
       "      <td>MIA @ ATL</td>\n",
       "      <td>W</td>\n",
       "      <td>240</td>\n",
       "      <td>40</td>\n",
       "      <td>...</td>\n",
       "      <td>13.860014</td>\n",
       "      <td>0.209302</td>\n",
       "      <td>0.333333</td>\n",
       "      <td>0.142857</td>\n",
       "      <td>0.204545</td>\n",
       "      <td>11.066017</td>\n",
       "      <td>0.697171</td>\n",
       "      <td>-0.124031</td>\n",
       "      <td>-0.061688</td>\n",
       "      <td>0</td>\n",
       "    </tr>\n",
       "    <tr>\n",
       "      <th>...</th>\n",
       "      <td>...</td>\n",
       "      <td>...</td>\n",
       "      <td>...</td>\n",
       "      <td>...</td>\n",
       "      <td>...</td>\n",
       "      <td>...</td>\n",
       "      <td>...</td>\n",
       "      <td>...</td>\n",
       "      <td>...</td>\n",
       "      <td>...</td>\n",
       "      <td>...</td>\n",
       "      <td>...</td>\n",
       "      <td>...</td>\n",
       "      <td>...</td>\n",
       "      <td>...</td>\n",
       "      <td>...</td>\n",
       "      <td>...</td>\n",
       "      <td>...</td>\n",
       "      <td>...</td>\n",
       "      <td>...</td>\n",
       "      <td>...</td>\n",
       "    </tr>\n",
       "    <tr>\n",
       "      <th>2020</th>\n",
       "      <td>22019</td>\n",
       "      <td>1610612748</td>\n",
       "      <td>MIA</td>\n",
       "      <td>Miami Heat</td>\n",
       "      <td>0021901269</td>\n",
       "      <td>2020-08-06</td>\n",
       "      <td>MIA @ MIL</td>\n",
       "      <td>L</td>\n",
       "      <td>240</td>\n",
       "      <td>35</td>\n",
       "      <td>...</td>\n",
       "      <td>12.877116</td>\n",
       "      <td>0.133333</td>\n",
       "      <td>0.131579</td>\n",
       "      <td>0.301205</td>\n",
       "      <td>0.423077</td>\n",
       "      <td>-7.360210</td>\n",
       "      <td>-3.807113</td>\n",
       "      <td>0.001754</td>\n",
       "      <td>-0.121872</td>\n",
       "      <td>-2</td>\n",
       "    </tr>\n",
       "    <tr>\n",
       "      <th>2046</th>\n",
       "      <td>22019</td>\n",
       "      <td>1610612748</td>\n",
       "      <td>MIA</td>\n",
       "      <td>Miami Heat</td>\n",
       "      <td>0021901283</td>\n",
       "      <td>2020-08-08</td>\n",
       "      <td>MIA vs. PHX</td>\n",
       "      <td>L</td>\n",
       "      <td>240</td>\n",
       "      <td>41</td>\n",
       "      <td>...</td>\n",
       "      <td>9.838998</td>\n",
       "      <td>0.069767</td>\n",
       "      <td>0.260870</td>\n",
       "      <td>0.226190</td>\n",
       "      <td>0.206522</td>\n",
       "      <td>1.009317</td>\n",
       "      <td>-1.516036</td>\n",
       "      <td>-0.191102</td>\n",
       "      <td>0.019669</td>\n",
       "      <td>0</td>\n",
       "    </tr>\n",
       "    <tr>\n",
       "      <th>2064</th>\n",
       "      <td>22019</td>\n",
       "      <td>1610612748</td>\n",
       "      <td>MIA</td>\n",
       "      <td>Miami Heat</td>\n",
       "      <td>0021901295</td>\n",
       "      <td>2020-08-10</td>\n",
       "      <td>MIA vs. IND</td>\n",
       "      <td>W</td>\n",
       "      <td>240</td>\n",
       "      <td>44</td>\n",
       "      <td>...</td>\n",
       "      <td>15.178571</td>\n",
       "      <td>0.250000</td>\n",
       "      <td>0.115385</td>\n",
       "      <td>0.132653</td>\n",
       "      <td>0.190476</td>\n",
       "      <td>6.292517</td>\n",
       "      <td>3.546800</td>\n",
       "      <td>0.134615</td>\n",
       "      <td>-0.057823</td>\n",
       "      <td>2</td>\n",
       "    </tr>\n",
       "    <tr>\n",
       "      <th>2088</th>\n",
       "      <td>22019</td>\n",
       "      <td>1610612748</td>\n",
       "      <td>MIA</td>\n",
       "      <td>Miami Heat</td>\n",
       "      <td>0021901306</td>\n",
       "      <td>2020-08-12</td>\n",
       "      <td>MIA @ OKC</td>\n",
       "      <td>L</td>\n",
       "      <td>240</td>\n",
       "      <td>42</td>\n",
       "      <td>...</td>\n",
       "      <td>13.689254</td>\n",
       "      <td>0.142857</td>\n",
       "      <td>0.291667</td>\n",
       "      <td>0.197674</td>\n",
       "      <td>0.247191</td>\n",
       "      <td>4.167755</td>\n",
       "      <td>2.453299</td>\n",
       "      <td>-0.148810</td>\n",
       "      <td>-0.049517</td>\n",
       "      <td>0</td>\n",
       "    </tr>\n",
       "    <tr>\n",
       "      <th>2117</th>\n",
       "      <td>22019</td>\n",
       "      <td>1610612748</td>\n",
       "      <td>MIA</td>\n",
       "      <td>Miami Heat</td>\n",
       "      <td>0021901316</td>\n",
       "      <td>2020-08-14</td>\n",
       "      <td>MIA @ IND</td>\n",
       "      <td>L</td>\n",
       "      <td>240</td>\n",
       "      <td>31</td>\n",
       "      <td>...</td>\n",
       "      <td>17.568517</td>\n",
       "      <td>0.264151</td>\n",
       "      <td>0.260870</td>\n",
       "      <td>0.229885</td>\n",
       "      <td>0.089888</td>\n",
       "      <td>-15.362263</td>\n",
       "      <td>1.450431</td>\n",
       "      <td>0.003281</td>\n",
       "      <td>0.139997</td>\n",
       "      <td>2</td>\n",
       "    </tr>\n",
       "  </tbody>\n",
       "</table>\n",
       "<p>73 rows × 70 columns</p>\n",
       "</div>"
      ],
      "text/plain": [
       "     SEASON_ID     TEAM_ID TEAM_ABBREVIATION   TEAM_NAME     GAME_ID  \\\n",
       "20       22019  1610612748               MIA  Miami Heat  0021900007   \n",
       "57       22019  1610612748               MIA  Miami Heat  0021900026   \n",
       "73       22019  1610612748               MIA  Miami Heat  0021900039   \n",
       "104      22019  1610612748               MIA  Miami Heat  0021900052   \n",
       "133      22019  1610612748               MIA  Miami Heat  0021900066   \n",
       "...        ...         ...               ...         ...         ...   \n",
       "2020     22019  1610612748               MIA  Miami Heat  0021901269   \n",
       "2046     22019  1610612748               MIA  Miami Heat  0021901283   \n",
       "2064     22019  1610612748               MIA  Miami Heat  0021901295   \n",
       "2088     22019  1610612748               MIA  Miami Heat  0021901306   \n",
       "2117     22019  1610612748               MIA  Miami Heat  0021901316   \n",
       "\n",
       "       GAME_DATE      MATCHUP WL  MIN  FGM  ...   OPP_TOV%      ORB%  \\\n",
       "20    2019-10-23  MIA vs. MEM  W  240   40  ...  19.017433  0.261905   \n",
       "57    2019-10-26    MIA @ MIL  W  265   46  ...  14.128728  0.160000   \n",
       "73    2019-10-27    MIA @ MIN  L  240   42  ...  13.166557  0.179487   \n",
       "104   2019-10-29  MIA vs. ATL  W  240   33  ...  17.611835  0.351351   \n",
       "133   2019-10-31    MIA @ ATL  W  240   40  ...  13.860014  0.209302   \n",
       "...          ...          ... ..  ...  ...  ...        ...       ...   \n",
       "2020  2020-08-06    MIA @ MIL  L  240   35  ...  12.877116  0.133333   \n",
       "2046  2020-08-08  MIA vs. PHX  L  240   41  ...   9.838998  0.069767   \n",
       "2064  2020-08-10  MIA vs. IND  W  240   44  ...  15.178571  0.250000   \n",
       "2088  2020-08-12    MIA @ OKC  L  240   42  ...  13.689254  0.142857   \n",
       "2117  2020-08-14    MIA @ IND  L  240   31  ...  17.568517  0.264151   \n",
       "\n",
       "      OPP_ORB%    FTRate  OPP_FTRate  eFG%_diff  TOV%_diff  ORB%_diff  \\\n",
       "20    0.183673  0.388235    0.224719   5.670853   1.966442   0.078231   \n",
       "57    0.098039  0.227723    0.287234   0.805772   0.779574   0.061961   \n",
       "73    0.291667  0.117647    0.274725   8.235294  -6.903251  -0.112179   \n",
       "104   0.200000  0.452055    0.192771   5.314408  -5.566973   0.151351   \n",
       "133   0.333333  0.142857    0.204545  11.066017   0.697171  -0.124031   \n",
       "...        ...       ...         ...        ...        ...        ...   \n",
       "2020  0.131579  0.301205    0.423077  -7.360210  -3.807113   0.001754   \n",
       "2046  0.260870  0.226190    0.206522   1.009317  -1.516036  -0.191102   \n",
       "2064  0.115385  0.132653    0.190476   6.292517   3.546800   0.134615   \n",
       "2088  0.291667  0.197674    0.247191   4.167755   2.453299  -0.148810   \n",
       "2117  0.260870  0.229885    0.089888 -15.362263   1.450431   0.003281   \n",
       "\n",
       "      FTRate_diff  FourFactorAdv  \n",
       "20       0.163516              4  \n",
       "57      -0.059511              2  \n",
       "73      -0.157078             -2  \n",
       "104      0.259284              2  \n",
       "133     -0.061688              0  \n",
       "...           ...            ...  \n",
       "2020    -0.121872             -2  \n",
       "2046     0.019669              0  \n",
       "2064    -0.057823              2  \n",
       "2088    -0.049517              0  \n",
       "2117     0.139997              2  \n",
       "\n",
       "[73 rows x 70 columns]"
      ]
     },
     "execution_count": 90,
     "metadata": {},
     "output_type": "execute_result"
    }
   ],
   "source": [
    "def calc_fourfactor_score(row):\n",
    "    \"\"\"\n",
    "    Calculates how many of the four factors that the team of interest outperforms the opposing team in\n",
    "    Used as a row function within df.apply\n",
    "    \"\"\"\n",
    "    score = 0\n",
    "    cols = ['eFG%_diff', 'TOV%_diff', 'ORB%_diff', 'FTRate_diff']\n",
    "    for col in cols:\n",
    "        if row[col]>0:\n",
    "            score+=1\n",
    "        elif row[col] < 0:\n",
    "            score -=1\n",
    "    return score\n",
    "        \n",
    "\n",
    "mia_regseason_full['FourFactorAdv'] = mia_regseason_full.apply(calc_fourfactor_score, axis = 1)\n",
    "ind_regseason_full['FourFactorAdv'] = ind_regseason_full.apply(calc_fourfactor_score, axis = 1)\n",
    "\n",
    "mia_regseason_full"
   ]
  },
  {
   "cell_type": "code",
   "execution_count": 14,
   "id": "076d30bb",
   "metadata": {},
   "outputs": [],
   "source": [
    "ind_regseason_full['eFG%_diff'] = ind_regseason_full['eFG%'] -  ind_regseason_full['OPP_eFG%']\n",
    "ind_regseason_full['TOV%_diff'] = ind_regseason_full['OPP_TOV%'] - ind_regseason_full['TOV%']  \n",
    "ind_regseason_full['ORB%_diff'] = ind_regseason_full['ORB%'] -  ind_regseason_full['OPP_ORB%']\n",
    "ind_regseason_full['FTRate_diff'] = ind_regseason_full['FTRate'] -  ind_regseason_full['OPP_FTRate']"
   ]
  },
  {
   "cell_type": "markdown",
   "id": "f2e4cbda",
   "metadata": {},
   "source": [
    "# Running Statistical Tests\n",
    "We assume that each game is independent from each other. In reality, this is not true, as teams make adjustments from game to game to fix their weaknesses and improve their strengths. In future analyses, we will relax this assumption and see which features we can further derive to build stronger predictions.\n",
    "\n",
    "We run two sample t-tests, seeing which factor holds predictive power in determining wins or losses. "
   ]
  },
  {
   "cell_type": "code",
   "execution_count": 68,
   "id": "23f7b69d",
   "metadata": {
    "scrolled": true
   },
   "outputs": [
    {
     "data": {
      "text/html": [
       "<div>\n",
       "<style scoped>\n",
       "    .dataframe tbody tr th:only-of-type {\n",
       "        vertical-align: middle;\n",
       "    }\n",
       "\n",
       "    .dataframe tbody tr th {\n",
       "        vertical-align: top;\n",
       "    }\n",
       "\n",
       "    .dataframe thead th {\n",
       "        text-align: right;\n",
       "    }\n",
       "</style>\n",
       "<table border=\"1\" class=\"dataframe\">\n",
       "  <thead>\n",
       "    <tr style=\"text-align: right;\">\n",
       "      <th></th>\n",
       "      <th>TEAM_ID</th>\n",
       "      <th>eFG%</th>\n",
       "      <th>OPP_eFG%</th>\n",
       "      <th>TOV%</th>\n",
       "      <th>OPP_TOV%</th>\n",
       "      <th>ORB%</th>\n",
       "      <th>OPP_ORB%</th>\n",
       "      <th>FTRate</th>\n",
       "      <th>OPP_FTRate</th>\n",
       "      <th>eFG%_diff</th>\n",
       "      <th>TOV%_diff</th>\n",
       "      <th>ORB%_diff</th>\n",
       "      <th>FTRate_diff</th>\n",
       "      <th>FourFactorAdv</th>\n",
       "    </tr>\n",
       "    <tr>\n",
       "      <th>WL</th>\n",
       "      <th></th>\n",
       "      <th></th>\n",
       "      <th></th>\n",
       "      <th></th>\n",
       "      <th></th>\n",
       "      <th></th>\n",
       "      <th></th>\n",
       "      <th></th>\n",
       "      <th></th>\n",
       "      <th></th>\n",
       "      <th></th>\n",
       "      <th></th>\n",
       "      <th></th>\n",
       "      <th></th>\n",
       "    </tr>\n",
       "  </thead>\n",
       "  <tbody>\n",
       "    <tr>\n",
       "      <th>L</th>\n",
       "      <td>1.610613e+09</td>\n",
       "      <td>50.883026</td>\n",
       "      <td>55.678021</td>\n",
       "      <td>13.436785</td>\n",
       "      <td>12.874450</td>\n",
       "      <td>0.192602</td>\n",
       "      <td>0.227001</td>\n",
       "      <td>0.228621</td>\n",
       "      <td>0.231931</td>\n",
       "      <td>-4.794995</td>\n",
       "      <td>-0.562334</td>\n",
       "      <td>-0.034399</td>\n",
       "      <td>-0.003309</td>\n",
       "      <td>-0.551724</td>\n",
       "    </tr>\n",
       "    <tr>\n",
       "      <th>W</th>\n",
       "      <td>1.610613e+09</td>\n",
       "      <td>57.511492</td>\n",
       "      <td>50.123070</td>\n",
       "      <td>13.522583</td>\n",
       "      <td>12.354404</td>\n",
       "      <td>0.207862</td>\n",
       "      <td>0.188143</td>\n",
       "      <td>0.242929</td>\n",
       "      <td>0.205352</td>\n",
       "      <td>7.388422</td>\n",
       "      <td>-1.168179</td>\n",
       "      <td>0.019718</td>\n",
       "      <td>0.037578</td>\n",
       "      <td>1.090909</td>\n",
       "    </tr>\n",
       "  </tbody>\n",
       "</table>\n",
       "</div>"
      ],
      "text/plain": [
       "         TEAM_ID       eFG%   OPP_eFG%       TOV%   OPP_TOV%      ORB%  \\\n",
       "WL                                                                       \n",
       "L   1.610613e+09  50.883026  55.678021  13.436785  12.874450  0.192602   \n",
       "W   1.610613e+09  57.511492  50.123070  13.522583  12.354404  0.207862   \n",
       "\n",
       "    OPP_ORB%    FTRate  OPP_FTRate  eFG%_diff  TOV%_diff  ORB%_diff  \\\n",
       "WL                                                                    \n",
       "L   0.227001  0.228621    0.231931  -4.794995  -0.562334  -0.034399   \n",
       "W   0.188143  0.242929    0.205352   7.388422  -1.168179   0.019718   \n",
       "\n",
       "    FTRate_diff  FourFactorAdv  \n",
       "WL                              \n",
       "L     -0.003309      -0.551724  \n",
       "W      0.037578       1.090909  "
      ]
     },
     "execution_count": 68,
     "metadata": {},
     "output_type": "execute_result"
    }
   ],
   "source": [
    "mia_regseason_advstats = mia_regseason_full[advstats]\n",
    "mia_regseason_advstats_wl = mia_regseason_advstats.groupby('WL').mean()\n",
    "mia_regseason_advstats_wl"
   ]
  },
  {
   "cell_type": "code",
   "execution_count": 16,
   "id": "bf48a608",
   "metadata": {},
   "outputs": [
    {
     "data": {
      "text/html": [
       "<div>\n",
       "<style scoped>\n",
       "    .dataframe tbody tr th:only-of-type {\n",
       "        vertical-align: middle;\n",
       "    }\n",
       "\n",
       "    .dataframe tbody tr th {\n",
       "        vertical-align: top;\n",
       "    }\n",
       "\n",
       "    .dataframe thead th {\n",
       "        text-align: right;\n",
       "    }\n",
       "</style>\n",
       "<table border=\"1\" class=\"dataframe\">\n",
       "  <thead>\n",
       "    <tr style=\"text-align: right;\">\n",
       "      <th></th>\n",
       "      <th>TEAM_ID</th>\n",
       "      <th>eFG%</th>\n",
       "      <th>OPP_eFG%</th>\n",
       "      <th>TOV%</th>\n",
       "      <th>OPP_TOV%</th>\n",
       "      <th>ORB%</th>\n",
       "      <th>OPP_ORB%</th>\n",
       "      <th>FTRate</th>\n",
       "      <th>OPP_FTRate</th>\n",
       "      <th>eFG%_diff</th>\n",
       "      <th>TOV%_diff</th>\n",
       "      <th>ORB%_diff</th>\n",
       "      <th>FTRate_diff</th>\n",
       "    </tr>\n",
       "    <tr>\n",
       "      <th>WL</th>\n",
       "      <th></th>\n",
       "      <th></th>\n",
       "      <th></th>\n",
       "      <th></th>\n",
       "      <th></th>\n",
       "      <th></th>\n",
       "      <th></th>\n",
       "      <th></th>\n",
       "      <th></th>\n",
       "      <th></th>\n",
       "      <th></th>\n",
       "      <th></th>\n",
       "      <th></th>\n",
       "    </tr>\n",
       "  </thead>\n",
       "  <tbody>\n",
       "    <tr>\n",
       "      <th>L</th>\n",
       "      <td>1.610613e+09</td>\n",
       "      <td>50.372579</td>\n",
       "      <td>54.323030</td>\n",
       "      <td>12.055095</td>\n",
       "      <td>12.526450</td>\n",
       "      <td>0.172602</td>\n",
       "      <td>0.250412</td>\n",
       "      <td>0.165264</td>\n",
       "      <td>0.218812</td>\n",
       "      <td>-3.950450</td>\n",
       "      <td>0.471354</td>\n",
       "      <td>-0.077811</td>\n",
       "      <td>-0.053549</td>\n",
       "    </tr>\n",
       "    <tr>\n",
       "      <th>W</th>\n",
       "      <td>1.610613e+09</td>\n",
       "      <td>55.549426</td>\n",
       "      <td>49.286545</td>\n",
       "      <td>11.924654</td>\n",
       "      <td>13.295923</td>\n",
       "      <td>0.213450</td>\n",
       "      <td>0.219896</td>\n",
       "      <td>0.176526</td>\n",
       "      <td>0.179219</td>\n",
       "      <td>6.262881</td>\n",
       "      <td>1.371270</td>\n",
       "      <td>-0.006446</td>\n",
       "      <td>-0.002693</td>\n",
       "    </tr>\n",
       "  </tbody>\n",
       "</table>\n",
       "</div>"
      ],
      "text/plain": [
       "         TEAM_ID       eFG%   OPP_eFG%       TOV%   OPP_TOV%      ORB%  \\\n",
       "WL                                                                       \n",
       "L   1.610613e+09  50.372579  54.323030  12.055095  12.526450  0.172602   \n",
       "W   1.610613e+09  55.549426  49.286545  11.924654  13.295923  0.213450   \n",
       "\n",
       "    OPP_ORB%    FTRate  OPP_FTRate  eFG%_diff  TOV%_diff  ORB%_diff  \\\n",
       "WL                                                                    \n",
       "L   0.250412  0.165264    0.218812  -3.950450   0.471354  -0.077811   \n",
       "W   0.219896  0.176526    0.179219   6.262881   1.371270  -0.006446   \n",
       "\n",
       "    FTRate_diff  \n",
       "WL               \n",
       "L     -0.053549  \n",
       "W     -0.002693  "
      ]
     },
     "execution_count": 16,
     "metadata": {},
     "output_type": "execute_result"
    }
   ],
   "source": [
    "ind_regseason_advstats = ind_regseason_full[advstats]\n",
    "ind_regseason_advstats_wl = ind_regseason_advstats.groupby('WL').mean()\n",
    "ind_regseason_advstats_wl"
   ]
  },
  {
   "cell_type": "code",
   "execution_count": 70,
   "id": "07db319d",
   "metadata": {},
   "outputs": [],
   "source": [
    "mia_regseason_advstats_w = mia_regseason_advstats[mia_regseason_advstats['WL'] == 'W']\n",
    "mia_regseason_advstats_l = mia_regseason_advstats[mia_regseason_advstats['WL'] == 'L']\n",
    "ind_regseason_advstats_w = ind_regseason_advstats[ind_regseason_advstats['WL'] == 'W']\n",
    "ind_regseason_advstats_l = ind_regseason_advstats[ind_regseason_advstats['WL'] == 'L']"
   ]
  },
  {
   "cell_type": "code",
   "execution_count": 18,
   "id": "480015a5",
   "metadata": {
    "scrolled": false
   },
   "outputs": [
    {
     "data": {
      "text/plain": [
       "Ttest_indResult(statistic=4.665655295116776, pvalue=7.044834785985019e-06)"
      ]
     },
     "execution_count": 18,
     "metadata": {},
     "output_type": "execute_result"
    }
   ],
   "source": [
    "stats.ttest_ind(mia_regseason_advstats_w['eFG%'],mia_regseason_advstats_l['eFG%'], equal_var=True, alternative = 'greater')"
   ]
  },
  {
   "cell_type": "code",
   "execution_count": 106,
   "id": "e2aeeffe",
   "metadata": {},
   "outputs": [
    {
     "data": {
      "text/plain": [
       "Ttest_indResult(statistic=-5.025120042723112, pvalue=1.8095406486903292e-06)"
      ]
     },
     "execution_count": 106,
     "metadata": {},
     "output_type": "execute_result"
    }
   ],
   "source": [
    "stats.ttest_ind(mia_regseason_advstats_w['OPP_eFG%'],mia_regseason_advstats_l['OPP_eFG%'], equal_var=True, alternative = 'less')"
   ]
  },
  {
   "cell_type": "code",
   "execution_count": 19,
   "id": "782928bb",
   "metadata": {
    "scrolled": true
   },
   "outputs": [
    {
     "data": {
      "text/plain": [
       "Ttest_indResult(statistic=1.0486974909381077, pvalue=0.1489370501733219)"
      ]
     },
     "execution_count": 19,
     "metadata": {},
     "output_type": "execute_result"
    }
   ],
   "source": [
    "stats.ttest_ind(mia_regseason_advstats_w['ORB%'],mia_regseason_advstats_l['ORB%'], equal_var=True, alternative = 'greater')"
   ]
  },
  {
   "cell_type": "code",
   "execution_count": 20,
   "id": "5f3ee627",
   "metadata": {},
   "outputs": [
    {
     "data": {
      "text/plain": [
       "Ttest_indResult(statistic=-0.62956421115158, pvalue=0.7344997742333681)"
      ]
     },
     "execution_count": 20,
     "metadata": {},
     "output_type": "execute_result"
    }
   ],
   "source": [
    "stats.ttest_ind(mia_regseason_advstats_w['OPP_TOV%'],mia_regseason_advstats_l['OPP_TOV%'], equal_var=True, alternative = 'greater')"
   ]
  },
  {
   "cell_type": "code",
   "execution_count": 21,
   "id": "c40ccecb",
   "metadata": {},
   "outputs": [
    {
     "data": {
      "text/plain": [
       "Ttest_indResult(statistic=-2.2784055856094136, pvalue=0.01311378517531756)"
      ]
     },
     "execution_count": 21,
     "metadata": {},
     "output_type": "execute_result"
    }
   ],
   "source": [
    "stats.ttest_ind(mia_regseason_advstats_w['OPP_ORB%'],mia_regseason_advstats_l['OPP_ORB%'], equal_var=False, alternative = 'less')"
   ]
  },
  {
   "cell_type": "code",
   "execution_count": 22,
   "id": "4c8baf17",
   "metadata": {
    "scrolled": true
   },
   "outputs": [
    {
     "data": {
      "text/plain": [
       "Ttest_indResult(statistic=0.6755892629403749, pvalue=0.2508262569365728)"
      ]
     },
     "execution_count": 22,
     "metadata": {},
     "output_type": "execute_result"
    }
   ],
   "source": [
    "stats.ttest_ind(mia_regseason_advstats_w['FTRate'],mia_regseason_advstats_l['FTRate'], equal_var=False, alternative = 'greater')"
   ]
  },
  {
   "cell_type": "code",
   "execution_count": 23,
   "id": "c831bb3e",
   "metadata": {
    "scrolled": true
   },
   "outputs": [
    {
     "data": {
      "text/plain": [
       "Ttest_indResult(statistic=-1.2472485915955034, pvalue=0.1090299364579031)"
      ]
     },
     "execution_count": 23,
     "metadata": {},
     "output_type": "execute_result"
    }
   ],
   "source": [
    "stats.ttest_ind(mia_regseason_advstats_w['OPP_FTRate'],mia_regseason_advstats_l['OPP_FTRate'], equal_var=False, alternative = 'less')"
   ]
  },
  {
   "cell_type": "code",
   "execution_count": 24,
   "id": "62022aa4",
   "metadata": {
    "scrolled": true
   },
   "outputs": [
    {
     "data": {
      "text/plain": [
       "Ttest_indResult(statistic=7.765824108636039, pvalue=5.712550037309739e-11)"
      ]
     },
     "execution_count": 24,
     "metadata": {},
     "output_type": "execute_result"
    }
   ],
   "source": [
    "stats.ttest_ind(mia_regseason_advstats_w['eFG%_diff'],mia_regseason_advstats_l['eFG%_diff'], equal_var=False, alternative = 'greater')"
   ]
  },
  {
   "cell_type": "code",
   "execution_count": 47,
   "id": "ce467ea3",
   "metadata": {},
   "outputs": [
    {
     "data": {
      "text/plain": [
       "Ttest_indResult(statistic=0.8314118832021151, pvalue=0.2049208526736313)"
      ]
     },
     "execution_count": 47,
     "metadata": {},
     "output_type": "execute_result"
    }
   ],
   "source": [
    "stats.ttest_ind(ind_regseason_advstats_w['TOV%_diff'],ind_regseason_advstats_l['TOV%_diff'], equal_var=False, alternative = 'greater')"
   ]
  },
  {
   "cell_type": "code",
   "execution_count": 26,
   "id": "dbeed063",
   "metadata": {},
   "outputs": [
    {
     "data": {
      "text/plain": [
       "Ttest_indResult(statistic=2.3218614296146196, pvalue=0.011873643142978042)"
      ]
     },
     "execution_count": 26,
     "metadata": {},
     "output_type": "execute_result"
    }
   ],
   "source": [
    "stats.ttest_ind(mia_regseason_advstats_w['ORB%_diff'],mia_regseason_advstats_l['ORB%_diff'], equal_var=False, alternative = 'greater')"
   ]
  },
  {
   "cell_type": "markdown",
   "id": "3de866fb",
   "metadata": {},
   "source": [
    "We can see that eFG% and ORB% are the two factors that differ the most between Miami Heat wins vs. losses. However, special attention should be put on eFG%. With a very low p-value, it seems that the Heat relies on scoring efficiently off of their talented scorers in Robinson, Adebayo, and Herro, while aggresively pursuing the enemy defensively with players like Butler, Iguodala, and Adebayo to stop them in their tracks and prevent any attempts at scoring."
   ]
  },
  {
   "cell_type": "code",
   "execution_count": 28,
   "id": "c2b4529f",
   "metadata": {},
   "outputs": [],
   "source": [
    "def retrieve_bin_count(series):\n",
    "    ## Creates optimal # of bins for histogram according to Freedman–Diaconis rule\n",
    "    q1, q3 = np.percentile(mia_regseason_full['eFG%'], [25, 75])\n",
    "    binwidth = 2 * (q3 - q1) * len(mia_regseason_full['eFG%']) ** (-1/3)\n",
    "    bins = round((mia_regseason_full['eFG%'].max() - mia_regseason_full['eFG%'].min()) / binwidth)\n",
    "    return bins"
   ]
  },
  {
   "cell_type": "code",
   "execution_count": 29,
   "id": "22a351bd",
   "metadata": {
    "scrolled": false
   },
   "outputs": [
    {
     "data": {
      "text/plain": [
       "(array([4., 4., 5., 4., 8., 2., 2.]),\n",
       " array([-16.08086681, -12.60712953,  -9.13339226,  -5.65965498,\n",
       "         -2.18591771,   1.28781957,   4.76155684,   8.23529412]),\n",
       " <BarContainer object of 7 artists>)"
      ]
     },
     "execution_count": 29,
     "metadata": {},
     "output_type": "execute_result"
    },
    {
     "data": {
      "image/png": "[encoded data removed]",
      "text/plain": [
       "<Figure size 640x480 with 1 Axes>"
      ]
     },
     "metadata": {},
     "output_type": "display_data"
    }
   ],
   "source": [
    "plt.hist(mia_regseason_advstats_w['eFG%_diff'], alpha=0.5, bins = retrieve_bin_count(mia_regseason_advstats_w['eFG%_diff']))\n",
    "plt.hist(mia_regseason_advstats_l['eFG%_diff'], alpha=0.5, bins = retrieve_bin_count(mia_regseason_advstats_l['eFG%_diff']))"
   ]
  },
  {
   "cell_type": "code",
   "execution_count": 30,
   "id": "8a06dcd8",
   "metadata": {
    "scrolled": false
   },
   "outputs": [
    {
     "data": {
      "text/plain": [
       "(array([4., 5., 3., 5., 8., 2., 2.]),\n",
       " array([-8.70316587, -6.20750139, -3.7118369 , -1.21617242,  1.27949207,\n",
       "         3.77515655,  6.27082104,  8.76648553]),\n",
       " <BarContainer object of 7 artists>)"
      ]
     },
     "execution_count": 30,
     "metadata": {},
     "output_type": "execute_result"
    },
    {
     "data": {
      "image/png": "[encoded data removed]",
      "text/plain": [
       "<Figure size 640x480 with 1 Axes>"
      ]
     },
     "metadata": {},
     "output_type": "display_data"
    }
   ],
   "source": [
    "plt.hist(mia_regseason_advstats_w['TOV%_diff'], alpha=0.5, bins = retrieve_bin_count(mia_regseason_advstats_w['TOV%_diff']))\n",
    "plt.hist(mia_regseason_advstats_l['TOV%_diff'], alpha=0.5, bins = retrieve_bin_count(mia_regseason_advstats_l['TOV%_diff']))"
   ]
  },
  {
   "cell_type": "code",
   "execution_count": 31,
   "id": "eed2263a",
   "metadata": {
    "scrolled": false
   },
   "outputs": [
    {
     "data": {
      "text/plain": [
       "(array([5., 3., 4., 6., 6., 3., 2.]),\n",
       " array([-0.20363018, -0.15209117, -0.10055217, -0.04901316,  0.00252584,\n",
       "         0.05406485,  0.10560385,  0.15714286]),\n",
       " <BarContainer object of 7 artists>)"
      ]
     },
     "execution_count": 31,
     "metadata": {},
     "output_type": "execute_result"
    },
    {
     "data": {
      "image/png": "[encoded data removed]",
      "text/plain": [
       "<Figure size 640x480 with 1 Axes>"
      ]
     },
     "metadata": {},
     "output_type": "display_data"
    }
   ],
   "source": [
    "plt.hist(mia_regseason_advstats_w['ORB%_diff'], alpha=0.5, bins = retrieve_bin_count(mia_regseason_advstats_w['ORB%_diff']))\n",
    "plt.hist(mia_regseason_advstats_l['ORB%_diff'], alpha=0.5, bins = retrieve_bin_count(mia_regseason_advstats_l['ORB%_diff']))"
   ]
  },
  {
   "cell_type": "code",
   "execution_count": 86,
   "id": "17f6d5ce",
   "metadata": {},
   "outputs": [
    {
     "data": {
      "text/plain": [
       "(array([1., 1., 6., 5., 6., 7., 3.]),\n",
       " array([-0.32012352, -0.24220949, -0.16429545, -0.08638142, -0.00846738,\n",
       "         0.06944666,  0.14736069,  0.22527473]),\n",
       " <BarContainer object of 7 artists>)"
      ]
     },
     "execution_count": 86,
     "metadata": {},
     "output_type": "execute_result"
    },
    {
     "data": {
      "image/png": "[encoded data removed]",
      "text/plain": [
       "<Figure size 640x480 with 1 Axes>"
      ]
     },
     "metadata": {},
     "output_type": "display_data"
    }
   ],
   "source": [
    "plt.hist(mia_regseason_advstats_w['FTRate_diff'], alpha=0.5, bins = retrieve_bin_count(mia_regseason_advstats_w['FTRate_diff']))\n",
    "plt.hist(mia_regseason_advstats_l['FTRate_diff'], alpha=0.5, bins = retrieve_bin_count(mia_regseason_advstats_l['FTRate_diff']))"
   ]
  },
  {
   "cell_type": "code",
   "execution_count": 81,
   "id": "479ac27f",
   "metadata": {
    "scrolled": false
   },
   "outputs": [
    {
     "data": {
      "text/plain": [
       "(array([ 2.,  0.,  0.,  7.,  0.,  0., 17.,  0.,  0.,  3.]),\n",
       " array([-4. , -3.4, -2.8, -2.2, -1.6, -1. , -0.4,  0.2,  0.8,  1.4,  2. ]),\n",
       " <BarContainer object of 10 artists>)"
      ]
     },
     "execution_count": 81,
     "metadata": {},
     "output_type": "execute_result"
    },
    {
     "data": {
      "image/png": "[encoded data removed]",
      "text/plain": [
       "<Figure size 640x480 with 1 Axes>"
      ]
     },
     "metadata": {},
     "output_type": "display_data"
    }
   ],
   "source": [
    "plt.hist(mia_regseason_advstats_w['FourFactorAdv'], alpha=0.5)\n",
    "plt.hist(mia_regseason_advstats_l['FourFactorAdv'], alpha=0.5)"
   ]
  },
  {
   "cell_type": "code",
   "execution_count": 33,
   "id": "5b811e7a",
   "metadata": {
    "scrolled": false
   },
   "outputs": [
    {
     "data": {
      "text/html": [
       "<div>\n",
       "<style scoped>\n",
       "    .dataframe tbody tr th:only-of-type {\n",
       "        vertical-align: middle;\n",
       "    }\n",
       "\n",
       "    .dataframe tbody tr th {\n",
       "        vertical-align: top;\n",
       "    }\n",
       "\n",
       "    .dataframe thead th {\n",
       "        text-align: right;\n",
       "    }\n",
       "</style>\n",
       "<table border=\"1\" class=\"dataframe\">\n",
       "  <thead>\n",
       "    <tr style=\"text-align: right;\">\n",
       "      <th></th>\n",
       "      <th>eFG%</th>\n",
       "      <th>OPP_eFG%</th>\n",
       "      <th>TOV%</th>\n",
       "      <th>OPP_TOV%</th>\n",
       "      <th>ORB%</th>\n",
       "      <th>OPP_ORB%</th>\n",
       "      <th>FTRate</th>\n",
       "      <th>OPP_FTRate</th>\n",
       "      <th>eFG%_diff</th>\n",
       "      <th>TOV%_diff</th>\n",
       "      <th>ORB%_diff</th>\n",
       "      <th>FTRate_diff</th>\n",
       "    </tr>\n",
       "    <tr>\n",
       "      <th>TEAM_ID</th>\n",
       "      <th></th>\n",
       "      <th></th>\n",
       "      <th></th>\n",
       "      <th></th>\n",
       "      <th></th>\n",
       "      <th></th>\n",
       "      <th></th>\n",
       "      <th></th>\n",
       "      <th></th>\n",
       "      <th></th>\n",
       "      <th></th>\n",
       "      <th></th>\n",
       "    </tr>\n",
       "  </thead>\n",
       "  <tbody>\n",
       "    <tr>\n",
       "      <th>1610612748</th>\n",
       "      <td>54.878266</td>\n",
       "      <td>52.329831</td>\n",
       "      <td>13.488499</td>\n",
       "      <td>12.560998</td>\n",
       "      <td>0.201799</td>\n",
       "      <td>0.20358</td>\n",
       "      <td>0.237245</td>\n",
       "      <td>0.215911</td>\n",
       "      <td>2.548434</td>\n",
       "      <td>-0.927501</td>\n",
       "      <td>-0.00178</td>\n",
       "      <td>0.021335</td>\n",
       "    </tr>\n",
       "  </tbody>\n",
       "</table>\n",
       "</div>"
      ],
      "text/plain": [
       "                 eFG%   OPP_eFG%       TOV%   OPP_TOV%      ORB%  OPP_ORB%  \\\n",
       "TEAM_ID                                                                      \n",
       "1610612748  54.878266  52.329831  13.488499  12.560998  0.201799   0.20358   \n",
       "\n",
       "              FTRate  OPP_FTRate  eFG%_diff  TOV%_diff  ORB%_diff  FTRate_diff  \n",
       "TEAM_ID                                                                         \n",
       "1610612748  0.237245    0.215911   2.548434  -0.927501   -0.00178     0.021335  "
      ]
     },
     "execution_count": 33,
     "metadata": {},
     "output_type": "execute_result"
    }
   ],
   "source": [
    "mia_regseason_advstats_mean = mia_regseason_full[advstats].groupby('TEAM_ID').mean()\n",
    "mia_regseason_advstats_mean"
   ]
  },
  {
   "cell_type": "code",
   "execution_count": 87,
   "id": "6cdc1e59",
   "metadata": {},
   "outputs": [
    {
     "data": {
      "text/html": [
       "<div>\n",
       "<style scoped>\n",
       "    .dataframe tbody tr th:only-of-type {\n",
       "        vertical-align: middle;\n",
       "    }\n",
       "\n",
       "    .dataframe tbody tr th {\n",
       "        vertical-align: top;\n",
       "    }\n",
       "\n",
       "    .dataframe thead th {\n",
       "        text-align: right;\n",
       "    }\n",
       "</style>\n",
       "<table border=\"1\" class=\"dataframe\">\n",
       "  <thead>\n",
       "    <tr style=\"text-align: right;\">\n",
       "      <th></th>\n",
       "      <th>eFG%</th>\n",
       "      <th>OPP_eFG%</th>\n",
       "      <th>TOV%</th>\n",
       "      <th>OPP_TOV%</th>\n",
       "      <th>ORB%</th>\n",
       "      <th>OPP_ORB%</th>\n",
       "      <th>FTRate</th>\n",
       "      <th>OPP_FTRate</th>\n",
       "      <th>eFG%_diff</th>\n",
       "      <th>TOV%_diff</th>\n",
       "      <th>ORB%_diff</th>\n",
       "      <th>FTRate_diff</th>\n",
       "      <th>FourFactorAdv</th>\n",
       "    </tr>\n",
       "    <tr>\n",
       "      <th>TEAM_ID</th>\n",
       "      <th></th>\n",
       "      <th></th>\n",
       "      <th></th>\n",
       "      <th></th>\n",
       "      <th></th>\n",
       "      <th></th>\n",
       "      <th></th>\n",
       "      <th></th>\n",
       "      <th></th>\n",
       "      <th></th>\n",
       "      <th></th>\n",
       "      <th></th>\n",
       "      <th></th>\n",
       "    </tr>\n",
       "  </thead>\n",
       "  <tbody>\n",
       "    <tr>\n",
       "      <th>1610612748</th>\n",
       "      <td>6.742142</td>\n",
       "      <td>5.343626</td>\n",
       "      <td>4.005158</td>\n",
       "      <td>3.439042</td>\n",
       "      <td>0.060878</td>\n",
       "      <td>0.073601</td>\n",
       "      <td>0.091124</td>\n",
       "      <td>0.085424</td>\n",
       "      <td>8.873333</td>\n",
       "      <td>4.29286</td>\n",
       "      <td>0.099624</td>\n",
       "      <td>0.117266</td>\n",
       "      <td>1.707714</td>\n",
       "    </tr>\n",
       "  </tbody>\n",
       "</table>\n",
       "</div>"
      ],
      "text/plain": [
       "                eFG%  OPP_eFG%      TOV%  OPP_TOV%      ORB%  OPP_ORB%  \\\n",
       "TEAM_ID                                                                  \n",
       "1610612748  6.742142  5.343626  4.005158  3.439042  0.060878  0.073601   \n",
       "\n",
       "              FTRate  OPP_FTRate  eFG%_diff  TOV%_diff  ORB%_diff  \\\n",
       "TEAM_ID                                                             \n",
       "1610612748  0.091124    0.085424   8.873333    4.29286   0.099624   \n",
       "\n",
       "            FTRate_diff  FourFactorAdv  \n",
       "TEAM_ID                                 \n",
       "1610612748     0.117266       1.707714  "
      ]
     },
     "execution_count": 87,
     "metadata": {},
     "output_type": "execute_result"
    }
   ],
   "source": [
    "mia_regseason_advstats_std = mia_regseason_full[advstats].groupby('TEAM_ID').std()\n",
    "mia_regseason_advstats_std"
   ]
  },
  {
   "cell_type": "code",
   "execution_count": 91,
   "id": "2a6df0b1",
   "metadata": {
    "scrolled": true
   },
   "outputs": [
    {
     "data": {
      "text/html": [
       "<div>\n",
       "<style scoped>\n",
       "    .dataframe tbody tr th:only-of-type {\n",
       "        vertical-align: middle;\n",
       "    }\n",
       "\n",
       "    .dataframe tbody tr th {\n",
       "        vertical-align: top;\n",
       "    }\n",
       "\n",
       "    .dataframe thead th {\n",
       "        text-align: right;\n",
       "    }\n",
       "</style>\n",
       "<table border=\"1\" class=\"dataframe\">\n",
       "  <thead>\n",
       "    <tr style=\"text-align: right;\">\n",
       "      <th></th>\n",
       "      <th>eFG%</th>\n",
       "      <th>OPP_eFG%</th>\n",
       "      <th>TOV%</th>\n",
       "      <th>OPP_TOV%</th>\n",
       "      <th>ORB%</th>\n",
       "      <th>OPP_ORB%</th>\n",
       "      <th>FTRate</th>\n",
       "      <th>OPP_FTRate</th>\n",
       "      <th>eFG%_diff</th>\n",
       "      <th>TOV%_diff</th>\n",
       "      <th>ORB%_diff</th>\n",
       "      <th>FTRate_diff</th>\n",
       "      <th>FourFactorAdv</th>\n",
       "    </tr>\n",
       "    <tr>\n",
       "      <th>TEAM_ID</th>\n",
       "      <th></th>\n",
       "      <th></th>\n",
       "      <th></th>\n",
       "      <th></th>\n",
       "      <th></th>\n",
       "      <th></th>\n",
       "      <th></th>\n",
       "      <th></th>\n",
       "      <th></th>\n",
       "      <th></th>\n",
       "      <th></th>\n",
       "      <th></th>\n",
       "      <th></th>\n",
       "    </tr>\n",
       "  </thead>\n",
       "  <tbody>\n",
       "    <tr>\n",
       "      <th>1610612754</th>\n",
       "      <td>53.563786</td>\n",
       "      <td>51.218348</td>\n",
       "      <td>11.974686</td>\n",
       "      <td>13.000783</td>\n",
       "      <td>0.197782</td>\n",
       "      <td>0.231601</td>\n",
       "      <td>0.172206</td>\n",
       "      <td>0.194406</td>\n",
       "      <td>2.345439</td>\n",
       "      <td>1.026097</td>\n",
       "      <td>-0.033819</td>\n",
       "      <td>-0.022199</td>\n",
       "      <td>0.068493</td>\n",
       "    </tr>\n",
       "  </tbody>\n",
       "</table>\n",
       "</div>"
      ],
      "text/plain": [
       "                 eFG%   OPP_eFG%       TOV%   OPP_TOV%      ORB%  OPP_ORB%  \\\n",
       "TEAM_ID                                                                      \n",
       "1610612754  53.563786  51.218348  11.974686  13.000783  0.197782  0.231601   \n",
       "\n",
       "              FTRate  OPP_FTRate  eFG%_diff  TOV%_diff  ORB%_diff  \\\n",
       "TEAM_ID                                                             \n",
       "1610612754  0.172206    0.194406   2.345439   1.026097  -0.033819   \n",
       "\n",
       "            FTRate_diff  FourFactorAdv  \n",
       "TEAM_ID                                 \n",
       "1610612754    -0.022199       0.068493  "
      ]
     },
     "execution_count": 91,
     "metadata": {},
     "output_type": "execute_result"
    }
   ],
   "source": [
    "ind_regseason_advstats_mean = ind_regseason_full[advstats].groupby('TEAM_ID').mean()\n",
    "ind_regseason_advstats_mean"
   ]
  },
  {
   "cell_type": "code",
   "execution_count": 92,
   "id": "bb285b4e",
   "metadata": {},
   "outputs": [
    {
     "data": {
      "text/html": [
       "<div>\n",
       "<style scoped>\n",
       "    .dataframe tbody tr th:only-of-type {\n",
       "        vertical-align: middle;\n",
       "    }\n",
       "\n",
       "    .dataframe tbody tr th {\n",
       "        vertical-align: top;\n",
       "    }\n",
       "\n",
       "    .dataframe thead th {\n",
       "        text-align: right;\n",
       "    }\n",
       "</style>\n",
       "<table border=\"1\" class=\"dataframe\">\n",
       "  <thead>\n",
       "    <tr style=\"text-align: right;\">\n",
       "      <th></th>\n",
       "      <th>eFG%</th>\n",
       "      <th>OPP_eFG%</th>\n",
       "      <th>TOV%</th>\n",
       "      <th>OPP_TOV%</th>\n",
       "      <th>ORB%</th>\n",
       "      <th>OPP_ORB%</th>\n",
       "      <th>FTRate</th>\n",
       "      <th>OPP_FTRate</th>\n",
       "      <th>eFG%_diff</th>\n",
       "      <th>TOV%_diff</th>\n",
       "      <th>ORB%_diff</th>\n",
       "      <th>FTRate_diff</th>\n",
       "      <th>FourFactorAdv</th>\n",
       "    </tr>\n",
       "    <tr>\n",
       "      <th>TEAM_ID</th>\n",
       "      <th></th>\n",
       "      <th></th>\n",
       "      <th></th>\n",
       "      <th></th>\n",
       "      <th></th>\n",
       "      <th></th>\n",
       "      <th></th>\n",
       "      <th></th>\n",
       "      <th></th>\n",
       "      <th></th>\n",
       "      <th></th>\n",
       "      <th></th>\n",
       "      <th></th>\n",
       "    </tr>\n",
       "  </thead>\n",
       "  <tbody>\n",
       "    <tr>\n",
       "      <th>1610612754</th>\n",
       "      <td>6.63337</td>\n",
       "      <td>6.09255</td>\n",
       "      <td>3.461118</td>\n",
       "      <td>2.830491</td>\n",
       "      <td>0.063656</td>\n",
       "      <td>0.076661</td>\n",
       "      <td>0.071986</td>\n",
       "      <td>0.067351</td>\n",
       "      <td>8.420776</td>\n",
       "      <td>4.264589</td>\n",
       "      <td>0.107242</td>\n",
       "      <td>0.086054</td>\n",
       "      <td>1.873268</td>\n",
       "    </tr>\n",
       "  </tbody>\n",
       "</table>\n",
       "</div>"
      ],
      "text/plain": [
       "               eFG%  OPP_eFG%      TOV%  OPP_TOV%      ORB%  OPP_ORB%  \\\n",
       "TEAM_ID                                                                 \n",
       "1610612754  6.63337   6.09255  3.461118  2.830491  0.063656  0.076661   \n",
       "\n",
       "              FTRate  OPP_FTRate  eFG%_diff  TOV%_diff  ORB%_diff  \\\n",
       "TEAM_ID                                                             \n",
       "1610612754  0.071986    0.067351   8.420776   4.264589   0.107242   \n",
       "\n",
       "            FTRate_diff  FourFactorAdv  \n",
       "TEAM_ID                                 \n",
       "1610612754     0.086054       1.873268  "
      ]
     },
     "execution_count": 92,
     "metadata": {},
     "output_type": "execute_result"
    }
   ],
   "source": [
    "ind_regseason_advstats_std = ind_regseason_full[advstats].groupby('TEAM_ID').std()\n",
    "ind_regseason_advstats_std"
   ]
  },
  {
   "cell_type": "code",
   "execution_count": 97,
   "id": "542c73df",
   "metadata": {
    "scrolled": true
   },
   "outputs": [
    {
     "name": "stdout",
     "output_type": "stream",
     "text": [
      "Expected MIA eFG%: \n"
     ]
    },
    {
     "data": {
      "text/plain": [
       "53.04830670640564"
      ]
     },
     "execution_count": 97,
     "metadata": {},
     "output_type": "execute_result"
    }
   ],
   "source": [
    "print(\"Expected MIA eFG%: \")\n",
    "(mia_regseason_advstats_mean['eFG%'].iloc[0] + ind_regseason_advstats_mean['OPP_eFG%'].iloc[0])/2"
   ]
  },
  {
   "cell_type": "code",
   "execution_count": 98,
   "id": "988b8c8e",
   "metadata": {
    "scrolled": true
   },
   "outputs": [
    {
     "name": "stdout",
     "output_type": "stream",
     "text": [
      "Expected IND eFG%: \n"
     ]
    },
    {
     "data": {
      "text/plain": [
       "52.94680886414535"
      ]
     },
     "execution_count": 98,
     "metadata": {},
     "output_type": "execute_result"
    }
   ],
   "source": [
    "print(\"Expected IND eFG%: \")\n",
    "(mia_regseason_advstats_mean['OPP_eFG%'].iloc[0] + ind_regseason_advstats_mean['eFG%'].iloc[0])/2"
   ]
  },
  {
   "cell_type": "code",
   "execution_count": 104,
   "id": "012a0fcc",
   "metadata": {},
   "outputs": [
    {
     "name": "stdout",
     "output_type": "stream",
     "text": [
      "Expected TOV ORB%: \n"
     ]
    },
    {
     "data": {
      "text/plain": [
       "13.244640759532064"
      ]
     },
     "execution_count": 104,
     "metadata": {},
     "output_type": "execute_result"
    }
   ],
   "source": [
    "print(\"Expected TOV ORB%: \")\n",
    "\n",
    "(mia_regseason_advstats_mean['TOV%'].iloc[0] + ind_regseason_advstats_mean['OPP_TOV%'].iloc[0])/2"
   ]
  },
  {
   "cell_type": "code",
   "execution_count": 59,
   "id": "12d30bb4",
   "metadata": {
    "scrolled": true
   },
   "outputs": [
    {
     "data": {
      "text/plain": [
       "12.267842048024086"
      ]
     },
     "execution_count": 59,
     "metadata": {},
     "output_type": "execute_result"
    }
   ],
   "source": [
    "print(\"Expected IND TOV%: \")\n",
    "\n",
    "(mia_regseason_advstats_mean['OPP_TOV%'].iloc[0] + ind_regseason_advstats_mean['TOV%'].iloc[0])/2"
   ]
  },
  {
   "cell_type": "code",
   "execution_count": 103,
   "id": "83b15cce",
   "metadata": {},
   "outputs": [
    {
     "name": "stdout",
     "output_type": "stream",
     "text": [
      "Expected MIA ORB%: \n"
     ]
    },
    {
     "data": {
      "text/plain": [
       "0.21670023076233513"
      ]
     },
     "execution_count": 103,
     "metadata": {},
     "output_type": "execute_result"
    }
   ],
   "source": [
    "print(\"Expected MIA ORB%: \")\n",
    "\n",
    "(mia_regseason_advstats_mean['ORB%'].iloc[0] + ind_regseason_advstats_mean['OPP_ORB%'].iloc[0])/2"
   ]
  },
  {
   "cell_type": "code",
   "execution_count": 101,
   "id": "2a803c10",
   "metadata": {
    "scrolled": true
   },
   "outputs": [
    {
     "name": "stdout",
     "output_type": "stream",
     "text": [
      "Expected IND ORB%: \n"
     ]
    },
    {
     "data": {
      "text/plain": [
       "0.20068094813943466"
      ]
     },
     "execution_count": 101,
     "metadata": {},
     "output_type": "execute_result"
    }
   ],
   "source": [
    "print(\"Expected IND ORB%: \")\n",
    "(mia_regseason_advstats_mean['OPP_ORB%'].iloc[0] + ind_regseason_advstats_mean['ORB%'].iloc[0])/2"
   ]
  },
  {
   "cell_type": "code",
   "execution_count": 102,
   "id": "bcb39a0a",
   "metadata": {},
   "outputs": [
    {
     "name": "stdout",
     "output_type": "stream",
     "text": [
      "Expected MIA FTRate: \n"
     ]
    },
    {
     "data": {
      "text/plain": [
       "0.21582548381173222"
      ]
     },
     "execution_count": 102,
     "metadata": {},
     "output_type": "execute_result"
    }
   ],
   "source": [
    "print(\"Expected MIA FTRate: \")\n",
    "\n",
    "(mia_regseason_advstats_mean['FTRate'].iloc[0] + ind_regseason_advstats_mean['OPP_FTRate'].iloc[0])/2"
   ]
  },
  {
   "cell_type": "code",
   "execution_count": 100,
   "id": "fbce1f92",
   "metadata": {
    "scrolled": true
   },
   "outputs": [
    {
     "name": "stdout",
     "output_type": "stream",
     "text": [
      "Expected IND FTRate: \n"
     ]
    },
    {
     "data": {
      "text/plain": [
       "0.1940584699343749"
      ]
     },
     "execution_count": 100,
     "metadata": {},
     "output_type": "execute_result"
    }
   ],
   "source": [
    "print(\"Expected IND FTRate: \")\n",
    "(mia_regseason_advstats_mean['OPP_FTRate'].iloc[0] + ind_regseason_advstats_mean['FTRate'].iloc[0])/2"
   ]
  },
  {
   "cell_type": "markdown",
   "id": "ab61e642",
   "metadata": {},
   "source": [
    "From the above, we can see that MIA outclasses IND in at 3 of the 4 factors. From these, we expect that MIA should have a slight edge in beating IND. This is what happens in the first round of the 2020 playoffs, where MIA in fact beats IND 4-0 to advance to the second round against MIL. In the future, we will look at what other factors can potentially affect these statistics, and what other predictors are effective in determining game outcomes and win probabilities.\n",
    "\n",
    "Although MIA's expected eFG% is around the same as IND's expected eFG%, MIA's eFG% is much higher than IND's expected opponent eFG%. In the future, we will look at factors that may wants us putting a heavier weight on MIA's eFG% over IND's OPP\\_eFG%."
   ]
  },
  {
   "cell_type": "markdown",
   "id": "d3242461",
   "metadata": {},
   "source": [
    "# Conclusion\n",
    "\n",
    "In this notebook, we looked at MIA's season performance through Dean Oliver's Four Factors and determined that effective field goal percentage was the biggest variable in determining MIA winning or losing. We perform some deeper analysis to determine how MIA compares vs. IND in each of the four factors, and we can see that MIA outclasses IND in 3 of the 4 factors. \n",
    "\n",
    "This notebook is meant to serve as an introduction into the Four Factors and its potential uses. There is still a lot to be explored in terms of its predictive power, and what it means for teams with high rankings in these statistical features. In the future, we'll look at player specific statistics and how matchups play a factor in influencing the outcome of a game."
   ]
  },
  {
   "cell_type": "markdown",
   "id": "4fa700c2",
   "metadata": {},
   "source": [
    "# References\n",
    "\n",
    "[1] https://www.nbastuffer.com/analytics101/possession/ \n",
    "\n",
    "[2] https://www.basketball-reference.com/about/glossary.html#ft\n"
   ]
  }
 ],
 "metadata": {
  "kernelspec": {
   "display_name": "Python 3 (ipykernel)",
   "language": "python",
   "name": "python3"
  },
  "language_info": {
   "codemirror_mode": {
    "name": "ipython",
    "version": 3
   },
   "file_extension": ".py",
   "mimetype": "text/x-python",
   "name": "python",
   "nbconvert_exporter": "python",
   "pygments_lexer": "ipython3",
   "version": "3.9.16"
  }
 },
 "nbformat": 4,
 "nbformat_minor": 5
}
